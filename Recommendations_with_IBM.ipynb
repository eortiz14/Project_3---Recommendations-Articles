{
 "cells": [
  {
   "cell_type": "markdown",
   "metadata": {},
   "source": [
    "# Recommendations with IBM\n",
    "\n",
    "In this notebook, you will be putting your recommendation skills to use on real data from the IBM Watson Studio platform. \n",
    "\n",
    "\n",
    "You may either submit your notebook through the workspace here, or you may work from your local machine and submit through the next page.  Either way assure that your code passes the project [RUBRIC](https://review.udacity.com/#!/rubrics/3325/view).  **Please save regularly.**\n",
    "\n",
    "By following the table of contents, you will build out a number of different methods for making recommendations that can be used for different situations. \n",
    "\n",
    "\n",
    "## Table of Contents\n",
    "\n",
    "I. [Exploratory Data Analysis](#Exploratory-Data-Analysis)<br>\n",
    "II. [Rank Based Recommendations](#Rank)<br>\n",
    "III. [User-User Based Collaborative Filtering](#User-User)<br>\n",
    "IV. [Content Based Recommendations (EXTRA - NOT REQUIRED)](#Content-Recs)<br>\n",
    "V. [Matrix Factorization](#Matrix-Fact)<br>\n",
    "VI. [Extras & Concluding](#conclusions)\n",
    "\n",
    "At the end of the notebook, you will find directions for how to submit your work.  Let's get started by importing the necessary libraries and reading in the data."
   ]
  },
  {
   "cell_type": "code",
   "execution_count": 69,
   "metadata": {},
   "outputs": [
    {
     "name": "stdout",
     "output_type": "stream",
     "text": [
      "[nltk_data] Downloading package punkt to /root/nltk_data...\n",
      "[nltk_data]   Package punkt is already up-to-date!\n",
      "[nltk_data] Downloading package wordnet to /root/nltk_data...\n",
      "[nltk_data]   Package wordnet is already up-to-date!\n",
      "[nltk_data] Downloading package averaged_perceptron_tagger to\n",
      "[nltk_data]     /root/nltk_data...\n",
      "[nltk_data]   Package averaged_perceptron_tagger is already up-to-\n",
      "[nltk_data]       date!\n",
      "[nltk_data] Downloading package stopwords to /root/nltk_data...\n",
      "[nltk_data]   Package stopwords is already up-to-date!\n"
     ]
    },
    {
     "data": {
      "text/html": [
       "<div>\n",
       "<style scoped>\n",
       "    .dataframe tbody tr th:only-of-type {\n",
       "        vertical-align: middle;\n",
       "    }\n",
       "\n",
       "    .dataframe tbody tr th {\n",
       "        vertical-align: top;\n",
       "    }\n",
       "\n",
       "    .dataframe thead th {\n",
       "        text-align: right;\n",
       "    }\n",
       "</style>\n",
       "<table border=\"1\" class=\"dataframe\">\n",
       "  <thead>\n",
       "    <tr style=\"text-align: right;\">\n",
       "      <th></th>\n",
       "      <th>article_id</th>\n",
       "      <th>title</th>\n",
       "      <th>email</th>\n",
       "    </tr>\n",
       "  </thead>\n",
       "  <tbody>\n",
       "    <tr>\n",
       "      <th>0</th>\n",
       "      <td>1430.0</td>\n",
       "      <td>using pixiedust for fast, flexible, and easier...</td>\n",
       "      <td>ef5f11f77ba020cd36e1105a00ab868bbdbf7fe7</td>\n",
       "    </tr>\n",
       "    <tr>\n",
       "      <th>1</th>\n",
       "      <td>1314.0</td>\n",
       "      <td>healthcare python streaming application demo</td>\n",
       "      <td>083cbdfa93c8444beaa4c5f5e0f5f9198e4f9e0b</td>\n",
       "    </tr>\n",
       "    <tr>\n",
       "      <th>2</th>\n",
       "      <td>1429.0</td>\n",
       "      <td>use deep learning for image classification</td>\n",
       "      <td>b96a4f2e92d8572034b1e9b28f9ac673765cd074</td>\n",
       "    </tr>\n",
       "    <tr>\n",
       "      <th>3</th>\n",
       "      <td>1338.0</td>\n",
       "      <td>ml optimization using cognitive assistant</td>\n",
       "      <td>06485706b34a5c9bf2a0ecdac41daf7e7654ceb7</td>\n",
       "    </tr>\n",
       "    <tr>\n",
       "      <th>4</th>\n",
       "      <td>1276.0</td>\n",
       "      <td>deploy your python model as a restful api</td>\n",
       "      <td>f01220c46fc92c6e6b161b1849de11faacd7ccb2</td>\n",
       "    </tr>\n",
       "  </tbody>\n",
       "</table>\n",
       "</div>"
      ],
      "text/plain": [
       "   article_id                                              title  \\\n",
       "0      1430.0  using pixiedust for fast, flexible, and easier...   \n",
       "1      1314.0       healthcare python streaming application demo   \n",
       "2      1429.0         use deep learning for image classification   \n",
       "3      1338.0          ml optimization using cognitive assistant   \n",
       "4      1276.0          deploy your python model as a restful api   \n",
       "\n",
       "                                      email  \n",
       "0  ef5f11f77ba020cd36e1105a00ab868bbdbf7fe7  \n",
       "1  083cbdfa93c8444beaa4c5f5e0f5f9198e4f9e0b  \n",
       "2  b96a4f2e92d8572034b1e9b28f9ac673765cd074  \n",
       "3  06485706b34a5c9bf2a0ecdac41daf7e7654ceb7  \n",
       "4  f01220c46fc92c6e6b161b1849de11faacd7ccb2  "
      ]
     },
     "execution_count": 69,
     "metadata": {},
     "output_type": "execute_result"
    }
   ],
   "source": [
    "import pandas as pd\n",
    "import numpy as np\n",
    "import matplotlib.pyplot as plt\n",
    "import project_tests as t\n",
    "import pickle\n",
    "\n",
    "import nltk\n",
    "nltk.download(['punkt', 'wordnet', 'averaged_perceptron_tagger','stopwords'])\n",
    "from nltk.tokenize import word_tokenize\n",
    "from nltk.stem import WordNetLemmatizer\n",
    "from nltk.corpus import stopwords\n",
    "from sklearn.feature_extraction.text import CountVectorizer, TfidfTransformer\n",
    "import re\n",
    "\n",
    "%matplotlib inline\n",
    "\n",
    "df = pd.read_csv('data/user-item-interactions.csv')\n",
    "df_content = pd.read_csv('data/articles_community.csv')\n",
    "del df['Unnamed: 0']\n",
    "del df_content['Unnamed: 0']\n",
    "\n",
    "# Show df to get an idea of the data\n",
    "df.head()"
   ]
  },
  {
   "cell_type": "code",
   "execution_count": 2,
   "metadata": {},
   "outputs": [
    {
     "data": {
      "text/html": [
       "<div>\n",
       "<style scoped>\n",
       "    .dataframe tbody tr th:only-of-type {\n",
       "        vertical-align: middle;\n",
       "    }\n",
       "\n",
       "    .dataframe tbody tr th {\n",
       "        vertical-align: top;\n",
       "    }\n",
       "\n",
       "    .dataframe thead th {\n",
       "        text-align: right;\n",
       "    }\n",
       "</style>\n",
       "<table border=\"1\" class=\"dataframe\">\n",
       "  <thead>\n",
       "    <tr style=\"text-align: right;\">\n",
       "      <th></th>\n",
       "      <th>doc_body</th>\n",
       "      <th>doc_description</th>\n",
       "      <th>doc_full_name</th>\n",
       "      <th>doc_status</th>\n",
       "      <th>article_id</th>\n",
       "    </tr>\n",
       "  </thead>\n",
       "  <tbody>\n",
       "    <tr>\n",
       "      <th>0</th>\n",
       "      <td>Skip navigation Sign in SearchLoading...\\r\\n\\r...</td>\n",
       "      <td>Detect bad readings in real time using Python ...</td>\n",
       "      <td>Detect Malfunctioning IoT Sensors with Streami...</td>\n",
       "      <td>Live</td>\n",
       "      <td>0</td>\n",
       "    </tr>\n",
       "    <tr>\n",
       "      <th>1</th>\n",
       "      <td>No Free Hunch Navigation * kaggle.com\\r\\n\\r\\n ...</td>\n",
       "      <td>See the forest, see the trees. Here lies the c...</td>\n",
       "      <td>Communicating data science: A guide to present...</td>\n",
       "      <td>Live</td>\n",
       "      <td>1</td>\n",
       "    </tr>\n",
       "    <tr>\n",
       "      <th>2</th>\n",
       "      <td>☰ * Login\\r\\n * Sign Up\\r\\n\\r\\n * Learning Pat...</td>\n",
       "      <td>Here’s this week’s news in Data Science and Bi...</td>\n",
       "      <td>This Week in Data Science (April 18, 2017)</td>\n",
       "      <td>Live</td>\n",
       "      <td>2</td>\n",
       "    </tr>\n",
       "    <tr>\n",
       "      <th>3</th>\n",
       "      <td>DATALAYER: HIGH THROUGHPUT, LOW LATENCY AT SCA...</td>\n",
       "      <td>Learn how distributed DBs solve the problem of...</td>\n",
       "      <td>DataLayer Conference: Boost the performance of...</td>\n",
       "      <td>Live</td>\n",
       "      <td>3</td>\n",
       "    </tr>\n",
       "    <tr>\n",
       "      <th>4</th>\n",
       "      <td>Skip navigation Sign in SearchLoading...\\r\\n\\r...</td>\n",
       "      <td>This video demonstrates the power of IBM DataS...</td>\n",
       "      <td>Analyze NY Restaurant data using Spark in DSX</td>\n",
       "      <td>Live</td>\n",
       "      <td>4</td>\n",
       "    </tr>\n",
       "  </tbody>\n",
       "</table>\n",
       "</div>"
      ],
      "text/plain": [
       "                                            doc_body  \\\n",
       "0  Skip navigation Sign in SearchLoading...\\r\\n\\r...   \n",
       "1  No Free Hunch Navigation * kaggle.com\\r\\n\\r\\n ...   \n",
       "2  ☰ * Login\\r\\n * Sign Up\\r\\n\\r\\n * Learning Pat...   \n",
       "3  DATALAYER: HIGH THROUGHPUT, LOW LATENCY AT SCA...   \n",
       "4  Skip navigation Sign in SearchLoading...\\r\\n\\r...   \n",
       "\n",
       "                                     doc_description  \\\n",
       "0  Detect bad readings in real time using Python ...   \n",
       "1  See the forest, see the trees. Here lies the c...   \n",
       "2  Here’s this week’s news in Data Science and Bi...   \n",
       "3  Learn how distributed DBs solve the problem of...   \n",
       "4  This video demonstrates the power of IBM DataS...   \n",
       "\n",
       "                                       doc_full_name doc_status  article_id  \n",
       "0  Detect Malfunctioning IoT Sensors with Streami...       Live           0  \n",
       "1  Communicating data science: A guide to present...       Live           1  \n",
       "2         This Week in Data Science (April 18, 2017)       Live           2  \n",
       "3  DataLayer Conference: Boost the performance of...       Live           3  \n",
       "4      Analyze NY Restaurant data using Spark in DSX       Live           4  "
      ]
     },
     "execution_count": 2,
     "metadata": {},
     "output_type": "execute_result"
    }
   ],
   "source": [
    "# Show df_content to get an idea of the data\n",
    "df_content.head()"
   ]
  },
  {
   "cell_type": "markdown",
   "metadata": {},
   "source": [
    "### <a class=\"anchor\" id=\"Exploratory-Data-Analysis\">Part I : Exploratory Data Analysis</a>\n",
    "\n",
    "Use the dictionary and cells below to provide some insight into the descriptive statistics of the data.\n",
    "\n",
    "`1.` What is the distribution of how many articles a user interacts with in the dataset?  Provide a visual and descriptive statistics to assist with giving a look at the number of times each user interacts with an article.  "
   ]
  },
  {
   "cell_type": "code",
   "execution_count": 3,
   "metadata": {},
   "outputs": [
    {
     "data": {
      "text/plain": [
       "((45993, 3), (1056, 5))"
      ]
     },
     "execution_count": 3,
     "metadata": {},
     "output_type": "execute_result"
    }
   ],
   "source": [
    "df.shape, df_content.shape"
   ]
  },
  {
   "cell_type": "code",
   "execution_count": 4,
   "metadata": {},
   "outputs": [
    {
     "data": {
      "text/plain": [
       "count    5148.000000\n",
       "mean        8.930847\n",
       "std        16.802267\n",
       "min         1.000000\n",
       "25%         1.000000\n",
       "50%         3.000000\n",
       "75%         9.000000\n",
       "max       364.000000\n",
       "Name: article_id, dtype: float64"
      ]
     },
     "execution_count": 4,
     "metadata": {},
     "output_type": "execute_result"
    }
   ],
   "source": [
    "user_interacts = df.groupby(\"email\").count()[\"article_id\"]\n",
    "user_interacts.describe()"
   ]
  },
  {
   "cell_type": "code",
   "execution_count": 5,
   "metadata": {},
   "outputs": [
    {
     "data": {
      "image/png": "[encoded data removed]",
      "text/plain": [
       "<matplotlib.figure.Figure at 0x7fcf3a0a3278>"
      ]
     },
     "metadata": {
      "needs_background": "light"
     },
     "output_type": "display_data"
    }
   ],
   "source": [
    "fig, ax = plt.subplots(figsize=(8,6))\n",
    "ax.hist(user_interacts)\n",
    "ax.set_title('Interactions per user')\n",
    "plt.show()"
   ]
  },
  {
   "cell_type": "code",
   "execution_count": 6,
   "metadata": {},
   "outputs": [
    {
     "data": {
      "image/png": "[encoded data removed]",
      "text/plain": [
       "<matplotlib.figure.Figure at 0x7fcf3a0bc978>"
      ]
     },
     "metadata": {
      "needs_background": "light"
     },
     "output_type": "display_data"
    }
   ],
   "source": [
    "interactions_count = df.groupby('email')['article_id'].count().values\n",
    "plt.figure()\n",
    "plt.plot(interactions_count)\n",
    "plt.xlabel('Users')\n",
    "plt.ylabel('Interaction count')\n",
    "plt.title('User Interaction with Articles')\n",
    "plt.show()"
   ]
  },
  {
   "cell_type": "code",
   "execution_count": 7,
   "metadata": {},
   "outputs": [
    {
     "data": {
      "text/plain": [
       "3.0"
      ]
     },
     "execution_count": 7,
     "metadata": {},
     "output_type": "execute_result"
    }
   ],
   "source": [
    "user_interacts.median()"
   ]
  },
  {
   "cell_type": "code",
   "execution_count": 8,
   "metadata": {},
   "outputs": [],
   "source": [
    "# Fill in the median and maximum number of user_article interactios below\n",
    "\n",
    "median_val = 3 # 50% of individuals interact with 3 number of articles or fewer.\n",
    "max_views_by_user = 364 # The maximum number of user-article interactions by any 1 user is 364."
   ]
  },
  {
   "cell_type": "markdown",
   "metadata": {},
   "source": [
    "`2.` Explore and remove duplicate articles from the **df_content** dataframe.  "
   ]
  },
  {
   "cell_type": "code",
   "execution_count": 9,
   "metadata": {},
   "outputs": [
    {
     "data": {
      "text/plain": [
       "5"
      ]
     },
     "execution_count": 9,
     "metadata": {},
     "output_type": "execute_result"
    }
   ],
   "source": [
    "# Find and explore duplicate articles\n",
    "df_content.duplicated(\"article_id\").sum()"
   ]
  },
  {
   "cell_type": "code",
   "execution_count": 10,
   "metadata": {},
   "outputs": [],
   "source": [
    "# Remove any rows that have the same article_id - only keep the first\n",
    "df_content = df_content.drop_duplicates(\"article_id\", keep=\"first\")"
   ]
  },
  {
   "cell_type": "markdown",
   "metadata": {},
   "source": [
    "`3.` Use the cells below to find:\n",
    "\n",
    "**a.** The number of unique articles that have an interaction with a user.  \n",
    "**b.** The number of unique articles in the dataset (whether they have any interactions or not).<br>\n",
    "**c.** The number of unique users in the dataset. (excluding null values) <br>\n",
    "**d.** The number of user-article interactions in the dataset."
   ]
  },
  {
   "cell_type": "code",
   "execution_count": 11,
   "metadata": {},
   "outputs": [
    {
     "data": {
      "text/plain": [
       "714"
      ]
     },
     "execution_count": 11,
     "metadata": {},
     "output_type": "execute_result"
    }
   ],
   "source": [
    "# The number of unique articles that have at least one interaction\n",
    "df.article_id.nunique()"
   ]
  },
  {
   "cell_type": "code",
   "execution_count": 12,
   "metadata": {},
   "outputs": [
    {
     "data": {
      "text/plain": [
       "1051"
      ]
     },
     "execution_count": 12,
     "metadata": {},
     "output_type": "execute_result"
    }
   ],
   "source": [
    " # The number of unique articles on the IBM platform\n",
    "df_content.shape[0]"
   ]
  },
  {
   "cell_type": "code",
   "execution_count": 13,
   "metadata": {},
   "outputs": [
    {
     "data": {
      "text/plain": [
       "5148"
      ]
     },
     "execution_count": 13,
     "metadata": {},
     "output_type": "execute_result"
    }
   ],
   "source": [
    " # The number of unique users\n",
    "df.email.nunique() "
   ]
  },
  {
   "cell_type": "code",
   "execution_count": 14,
   "metadata": {},
   "outputs": [
    {
     "data": {
      "text/plain": [
       "45993"
      ]
     },
     "execution_count": 14,
     "metadata": {},
     "output_type": "execute_result"
    }
   ],
   "source": [
    "# The number of user-article interactions\n",
    "df.shape[0]"
   ]
  },
  {
   "cell_type": "code",
   "execution_count": 15,
   "metadata": {},
   "outputs": [],
   "source": [
    "unique_articles = df.article_id.nunique()\n",
    "total_articles = df_content.shape[0]\n",
    "unique_users = df.email.nunique() \n",
    "user_article_interactions = df.shape[0]"
   ]
  },
  {
   "cell_type": "markdown",
   "metadata": {},
   "source": [
    "`4.` Use the cells below to find the most viewed **article_id**, as well as how often it was viewed.  After talking to the company leaders, the `email_mapper` function was deemed a reasonable way to map users to ids.  There were a small number of null values, and it was found that all of these null values likely belonged to a single user (which is how they are stored using the function below)."
   ]
  },
  {
   "cell_type": "code",
   "execution_count": 16,
   "metadata": {},
   "outputs": [
    {
     "data": {
      "text/plain": [
       "article_id\n",
       "1429.0    937\n",
       "1330.0    927\n",
       "1431.0    671\n",
       "1427.0    643\n",
       "1364.0    627\n",
       "Name: email, dtype: int64"
      ]
     },
     "execution_count": 16,
     "metadata": {},
     "output_type": "execute_result"
    }
   ],
   "source": [
    "# The most viewed article in the dataset as a string with one value following the decimal \n",
    "most_viewed=df.groupby(\"article_id\").count()[\"email\"].sort_values(ascending=False)\n",
    "most_viewed.head()"
   ]
  },
  {
   "cell_type": "code",
   "execution_count": 17,
   "metadata": {},
   "outputs": [],
   "source": [
    "most_viewed_article_id = '1429.0' # The most viewed article in the dataset as a string with one value following the decimal \n",
    "max_views = 937 # The most viewed article in the dataset was viewed how many times?"
   ]
  },
  {
   "cell_type": "code",
   "execution_count": 18,
   "metadata": {},
   "outputs": [
    {
     "data": {
      "text/html": [
       "<div>\n",
       "<style scoped>\n",
       "    .dataframe tbody tr th:only-of-type {\n",
       "        vertical-align: middle;\n",
       "    }\n",
       "\n",
       "    .dataframe tbody tr th {\n",
       "        vertical-align: top;\n",
       "    }\n",
       "\n",
       "    .dataframe thead th {\n",
       "        text-align: right;\n",
       "    }\n",
       "</style>\n",
       "<table border=\"1\" class=\"dataframe\">\n",
       "  <thead>\n",
       "    <tr style=\"text-align: right;\">\n",
       "      <th></th>\n",
       "      <th>article_id</th>\n",
       "      <th>title</th>\n",
       "      <th>user_id</th>\n",
       "    </tr>\n",
       "  </thead>\n",
       "  <tbody>\n",
       "    <tr>\n",
       "      <th>0</th>\n",
       "      <td>1430.0</td>\n",
       "      <td>using pixiedust for fast, flexible, and easier...</td>\n",
       "      <td>1</td>\n",
       "    </tr>\n",
       "    <tr>\n",
       "      <th>1</th>\n",
       "      <td>1314.0</td>\n",
       "      <td>healthcare python streaming application demo</td>\n",
       "      <td>2</td>\n",
       "    </tr>\n",
       "    <tr>\n",
       "      <th>2</th>\n",
       "      <td>1429.0</td>\n",
       "      <td>use deep learning for image classification</td>\n",
       "      <td>3</td>\n",
       "    </tr>\n",
       "    <tr>\n",
       "      <th>3</th>\n",
       "      <td>1338.0</td>\n",
       "      <td>ml optimization using cognitive assistant</td>\n",
       "      <td>4</td>\n",
       "    </tr>\n",
       "    <tr>\n",
       "      <th>4</th>\n",
       "      <td>1276.0</td>\n",
       "      <td>deploy your python model as a restful api</td>\n",
       "      <td>5</td>\n",
       "    </tr>\n",
       "  </tbody>\n",
       "</table>\n",
       "</div>"
      ],
      "text/plain": [
       "   article_id                                              title  user_id\n",
       "0      1430.0  using pixiedust for fast, flexible, and easier...        1\n",
       "1      1314.0       healthcare python streaming application demo        2\n",
       "2      1429.0         use deep learning for image classification        3\n",
       "3      1338.0          ml optimization using cognitive assistant        4\n",
       "4      1276.0          deploy your python model as a restful api        5"
      ]
     },
     "execution_count": 18,
     "metadata": {},
     "output_type": "execute_result"
    }
   ],
   "source": [
    "## No need to change the code here - this will be helpful for later parts of the notebook\n",
    "# Run this cell to map the user email to a user_id column and remove the email column\n",
    "\n",
    "def email_mapper():\n",
    "    coded_dict = dict()\n",
    "    cter = 1\n",
    "    email_encoded = []\n",
    "    \n",
    "    for val in df['email']:\n",
    "        if val not in coded_dict:\n",
    "            coded_dict[val] = cter\n",
    "            cter+=1\n",
    "        \n",
    "        email_encoded.append(coded_dict[val])\n",
    "    return email_encoded\n",
    "\n",
    "email_encoded = email_mapper()\n",
    "del df['email']\n",
    "df['user_id'] = email_encoded\n",
    "\n",
    "# show header\n",
    "df.head()"
   ]
  },
  {
   "cell_type": "code",
   "execution_count": 19,
   "metadata": {},
   "outputs": [
    {
     "name": "stdout",
     "output_type": "stream",
     "text": [
      "It looks like you have everything right here! Nice job!\n"
     ]
    }
   ],
   "source": [
    "## If you stored all your results in the variable names above, \n",
    "## you shouldn't need to change anything in this cell\n",
    "\n",
    "sol_1_dict = {\n",
    "    '`50% of individuals have _____ or fewer interactions.`': median_val,\n",
    "    '`The total number of user-article interactions in the dataset is ______.`': user_article_interactions,\n",
    "    '`The maximum number of user-article interactions by any 1 user is ______.`': max_views_by_user,\n",
    "    '`The most viewed article in the dataset was viewed _____ times.`': max_views,\n",
    "    '`The article_id of the most viewed article is ______.`': most_viewed_article_id,\n",
    "    '`The number of unique articles that have at least 1 rating ______.`': unique_articles,\n",
    "    '`The number of unique users in the dataset is ______`': unique_users,\n",
    "    '`The number of unique articles on the IBM platform`': total_articles\n",
    "}\n",
    "\n",
    "# Test your dictionary against the solution\n",
    "t.sol_1_test(sol_1_dict)"
   ]
  },
  {
   "cell_type": "markdown",
   "metadata": {},
   "source": [
    "### <a class=\"anchor\" id=\"Rank\">Part II: Rank-Based Recommendations</a>\n",
    "\n",
    "Unlike in the earlier lessons, we don't actually have ratings for whether a user liked an article or not.  We only know that a user has interacted with an article.  In these cases, the popularity of an article can really only be based on how often an article was interacted with.\n",
    "\n",
    "`1.` Fill in the function below to return the **n** top articles ordered with most interactions as the top. Test your function using the tests below."
   ]
  },
  {
   "cell_type": "code",
   "execution_count": 20,
   "metadata": {},
   "outputs": [
    {
     "name": "stdout",
     "output_type": "stream",
     "text": [
      "['use deep learning for image classification', 'insights from new york car accident reports', 'visualize car data with brunel', 'use xgboost, scikit-learn & ibm watson machine learning apis', 'predicting churn with the spss random tree algorithm']\n"
     ]
    }
   ],
   "source": [
    "top_articles = list(df.groupby('title')['user_id'].count().sort_values(ascending=False).head(5).index)\n",
    "print(top_articles)"
   ]
  },
  {
   "cell_type": "code",
   "execution_count": 21,
   "metadata": {},
   "outputs": [
    {
     "name": "stdout",
     "output_type": "stream",
     "text": [
      "[1429.0, 1330.0, 1431.0, 1427.0, 1364.0]\n"
     ]
    }
   ],
   "source": [
    "top_articles = list(df.groupby('article_id')['user_id'].count().sort_values(ascending=False).head(5).index)\n",
    "print(top_articles)"
   ]
  },
  {
   "cell_type": "code",
   "execution_count": 22,
   "metadata": {},
   "outputs": [],
   "source": [
    "def get_top_articles(n, df=df):\n",
    "    '''\n",
    "    INPUT:\n",
    "    n - (int) the number of top articles to return\n",
    "    df - (pandas dataframe) df as defined at the top of the notebook \n",
    "    \n",
    "    OUTPUT:\n",
    "    top_articles - (list) A list of the top 'n' article titles \n",
    "    \n",
    "    '''\n",
    "    top_articles = list(df.groupby('title')['user_id'].count().sort_values(ascending=False).head(n).index)\n",
    "    \n",
    "    return top_articles # Return the top article titles from df (not df_content)\n",
    "\n",
    "def get_top_article_ids(n, df=df):\n",
    "    '''\n",
    "    INPUT:\n",
    "    n - (int) the number of top articles to return\n",
    "    df - (pandas dataframe) df as defined at the top of the notebook \n",
    "    \n",
    "    OUTPUT:\n",
    "    top_articles - (list) A list of the top 'n' article titles \n",
    "    \n",
    "    '''\n",
    "    top_articles = list(df.groupby('article_id')['user_id'].count().sort_values(ascending=False).head(n).index)\n",
    " \n",
    "    return top_articles # Return the top article ids"
   ]
  },
  {
   "cell_type": "code",
   "execution_count": 23,
   "metadata": {},
   "outputs": [
    {
     "name": "stdout",
     "output_type": "stream",
     "text": [
      "['use deep learning for image classification', 'insights from new york car accident reports', 'visualize car data with brunel', 'use xgboost, scikit-learn & ibm watson machine learning apis', 'predicting churn with the spss random tree algorithm', 'healthcare python streaming application demo', 'finding optimal locations of new store using decision optimization', 'apache spark lab, part 1: basic concepts', 'analyze energy consumption in buildings', 'gosales transactions for logistic regression model']\n",
      "[1429.0, 1330.0, 1431.0, 1427.0, 1364.0, 1314.0, 1293.0, 1170.0, 1162.0, 1304.0]\n"
     ]
    }
   ],
   "source": [
    "print(get_top_articles(10))\n",
    "print(get_top_article_ids(10))"
   ]
  },
  {
   "cell_type": "code",
   "execution_count": 24,
   "metadata": {},
   "outputs": [
    {
     "name": "stdout",
     "output_type": "stream",
     "text": [
      "Your top_5 looks like the solution list! Nice job.\n",
      "Your top_10 looks like the solution list! Nice job.\n",
      "Your top_20 looks like the solution list! Nice job.\n"
     ]
    }
   ],
   "source": [
    "# Test your function by returning the top 5, 10, and 20 articles\n",
    "top_5 = get_top_articles(5)\n",
    "top_10 = get_top_articles(10)\n",
    "top_20 = get_top_articles(20)\n",
    "\n",
    "# Test each of your three lists from above\n",
    "t.sol_2_test(get_top_articles)"
   ]
  },
  {
   "cell_type": "markdown",
   "metadata": {},
   "source": [
    "### <a class=\"anchor\" id=\"User-User\">Part III: User-User Based Collaborative Filtering</a>\n",
    "\n",
    "\n",
    "`1.` Use the function below to reformat the **df** dataframe to be shaped with users as the rows and articles as the columns.  \n",
    "\n",
    "* Each **user** should only appear in each **row** once.\n",
    "\n",
    "\n",
    "* Each **article** should only show up in one **column**.  \n",
    "\n",
    "\n",
    "* **If a user has interacted with an article, then place a 1 where the user-row meets for that article-column**.  It does not matter how many times a user has interacted with the article, all entries where a user has interacted with an article should be a 1.  \n",
    "\n",
    "\n",
    "* **If a user has not interacted with an item, then place a zero where the user-row meets for that article-column**. \n",
    "\n",
    "Use the tests to make sure the basic structure of your matrix matches what is expected by the solution."
   ]
  },
  {
   "cell_type": "code",
   "execution_count": 25,
   "metadata": {},
   "outputs": [
    {
     "name": "stdout",
     "output_type": "stream",
     "text": [
      "article_id 0.0    2.0    4.0    8.0    9.0    12.0   14.0   15.0   16.0    \\\n",
      "user_id                                                                     \n",
      "1             NaN    NaN    NaN    NaN    NaN    NaN    NaN    NaN    NaN   \n",
      "2             NaN    NaN    NaN    NaN    NaN    NaN    NaN    NaN    NaN   \n",
      "3             NaN    NaN    NaN    NaN    NaN   True    NaN    NaN    NaN   \n",
      "4             NaN    NaN    NaN    NaN    NaN    NaN    NaN    NaN    NaN   \n",
      "5             NaN    NaN    NaN    NaN    NaN    NaN    NaN    NaN    NaN   \n",
      "6             NaN    NaN    NaN    NaN    NaN    NaN    NaN    NaN    NaN   \n",
      "7             NaN    NaN    NaN    NaN    NaN    NaN    NaN    NaN    NaN   \n",
      "8             NaN    NaN    NaN    NaN    NaN    NaN   True    NaN    NaN   \n",
      "9             NaN    NaN    NaN    NaN    NaN    NaN   True    NaN   True   \n",
      "10            NaN    NaN    NaN    NaN    NaN    NaN    NaN    NaN    NaN   \n",
      "11            NaN    NaN    NaN    NaN    NaN   True    NaN    NaN    NaN   \n",
      "12            NaN    NaN    NaN    NaN    NaN    NaN   True    NaN    NaN   \n",
      "13            NaN    NaN    NaN    NaN    NaN    NaN   True    NaN    NaN   \n",
      "14            NaN    NaN    NaN    NaN    NaN    NaN    NaN    NaN    NaN   \n",
      "15            NaN    NaN    NaN    NaN    NaN    NaN    NaN    NaN    NaN   \n",
      "16            NaN    NaN    NaN    NaN    NaN    NaN    NaN    NaN    NaN   \n",
      "17            NaN    NaN    NaN    NaN    NaN    NaN    NaN    NaN    NaN   \n",
      "18            NaN    NaN    NaN    NaN    NaN    NaN    NaN    NaN    NaN   \n",
      "19            NaN    NaN    NaN    NaN    NaN    NaN    NaN    NaN    NaN   \n",
      "20            NaN    NaN    NaN    NaN    NaN    NaN    NaN    NaN    NaN   \n",
      "21            NaN    NaN    NaN    NaN    NaN    NaN   True    NaN    NaN   \n",
      "22            NaN    NaN    NaN    NaN    NaN   True    NaN    NaN    NaN   \n",
      "23            NaN   True    NaN    NaN    NaN   True   True    NaN   True   \n",
      "24            NaN    NaN    NaN    NaN    NaN    NaN    NaN    NaN    NaN   \n",
      "25            NaN    NaN    NaN    NaN    NaN    NaN    NaN    NaN    NaN   \n",
      "26            NaN    NaN    NaN    NaN    NaN    NaN    NaN    NaN    NaN   \n",
      "27            NaN    NaN    NaN    NaN    NaN    NaN    NaN    NaN    NaN   \n",
      "28            NaN    NaN    NaN    NaN    NaN   True    NaN    NaN    NaN   \n",
      "29            NaN    NaN    NaN    NaN    NaN    NaN    NaN    NaN    NaN   \n",
      "30            NaN    NaN    NaN    NaN    NaN    NaN    NaN    NaN    NaN   \n",
      "...           ...    ...    ...    ...    ...    ...    ...    ...    ...   \n",
      "5120          NaN    NaN    NaN    NaN    NaN    NaN    NaN    NaN    NaN   \n",
      "5121          NaN    NaN    NaN    NaN    NaN    NaN    NaN    NaN    NaN   \n",
      "5122          NaN    NaN    NaN   True    NaN    NaN    NaN    NaN    NaN   \n",
      "5123          NaN    NaN    NaN    NaN    NaN    NaN    NaN    NaN    NaN   \n",
      "5124          NaN    NaN    NaN    NaN    NaN    NaN    NaN    NaN    NaN   \n",
      "5125          NaN    NaN    NaN    NaN    NaN    NaN    NaN    NaN    NaN   \n",
      "5126          NaN    NaN    NaN    NaN    NaN    NaN    NaN    NaN    NaN   \n",
      "5127          NaN    NaN    NaN    NaN    NaN    NaN    NaN    NaN    NaN   \n",
      "5128          NaN    NaN    NaN    NaN    NaN    NaN    NaN    NaN    NaN   \n",
      "5129          NaN    NaN    NaN    NaN    NaN    NaN    NaN    NaN    NaN   \n",
      "5130          NaN    NaN    NaN    NaN    NaN    NaN    NaN    NaN    NaN   \n",
      "5131          NaN    NaN    NaN    NaN    NaN    NaN    NaN    NaN    NaN   \n",
      "5132          NaN    NaN    NaN    NaN    NaN    NaN    NaN    NaN    NaN   \n",
      "5133          NaN    NaN    NaN    NaN    NaN    NaN    NaN    NaN    NaN   \n",
      "5134          NaN    NaN    NaN    NaN    NaN    NaN    NaN    NaN    NaN   \n",
      "5135          NaN    NaN    NaN    NaN    NaN    NaN    NaN    NaN    NaN   \n",
      "5136          NaN    NaN    NaN    NaN    NaN    NaN    NaN    NaN    NaN   \n",
      "5137          NaN    NaN    NaN    NaN    NaN    NaN    NaN    NaN    NaN   \n",
      "5138          NaN    NaN    NaN    NaN    NaN   True   True    NaN    NaN   \n",
      "5139          NaN    NaN    NaN    NaN    NaN    NaN    NaN   True    NaN   \n",
      "5140          NaN   True    NaN    NaN    NaN   True    NaN    NaN    NaN   \n",
      "5141          NaN    NaN    NaN    NaN    NaN    NaN    NaN    NaN    NaN   \n",
      "5142          NaN    NaN    NaN    NaN    NaN    NaN   True    NaN    NaN   \n",
      "5143          NaN    NaN    NaN    NaN    NaN    NaN    NaN    NaN    NaN   \n",
      "5144          NaN    NaN    NaN    NaN    NaN    NaN    NaN    NaN    NaN   \n",
      "5145          NaN    NaN    NaN    NaN    NaN    NaN    NaN    NaN    NaN   \n",
      "5146          NaN    NaN    NaN    NaN    NaN    NaN    NaN    NaN    NaN   \n",
      "5147          NaN    NaN    NaN    NaN    NaN    NaN    NaN    NaN    NaN   \n",
      "5148          NaN    NaN    NaN    NaN    NaN    NaN    NaN    NaN    NaN   \n",
      "5149          NaN    NaN    NaN    NaN    NaN    NaN    NaN    NaN   True   \n",
      "\n",
      "article_id 18.0    ...   1434.0 1435.0 1436.0 1437.0 1439.0 1440.0 1441.0  \\\n",
      "user_id            ...                                                      \n",
      "1             NaN  ...      NaN    NaN   True    NaN   True    NaN    NaN   \n",
      "2             NaN  ...      NaN    NaN    NaN    NaN    NaN    NaN    NaN   \n",
      "3             NaN  ...      NaN    NaN   True    NaN    NaN    NaN    NaN   \n",
      "4             NaN  ...      NaN    NaN    NaN    NaN    NaN    NaN    NaN   \n",
      "5             NaN  ...      NaN    NaN    NaN    NaN    NaN    NaN    NaN   \n",
      "6             NaN  ...      NaN    NaN   True    NaN    NaN    NaN    NaN   \n",
      "7             NaN  ...      NaN    NaN    NaN    NaN    NaN    NaN    NaN   \n",
      "8             NaN  ...      NaN    NaN   True    NaN    NaN    NaN    NaN   \n",
      "9             NaN  ...      NaN    NaN    NaN    NaN    NaN    NaN    NaN   \n",
      "10            NaN  ...      NaN    NaN    NaN    NaN    NaN    NaN    NaN   \n",
      "11            NaN  ...      NaN    NaN    NaN    NaN    NaN    NaN    NaN   \n",
      "12            NaN  ...      NaN    NaN    NaN    NaN    NaN    NaN    NaN   \n",
      "13            NaN  ...      NaN    NaN    NaN    NaN    NaN    NaN    NaN   \n",
      "14            NaN  ...      NaN    NaN    NaN    NaN    NaN    NaN    NaN   \n",
      "15            NaN  ...      NaN    NaN    NaN    NaN    NaN    NaN    NaN   \n",
      "16            NaN  ...      NaN    NaN    NaN    NaN    NaN    NaN    NaN   \n",
      "17            NaN  ...      NaN    NaN    NaN    NaN    NaN    NaN    NaN   \n",
      "18            NaN  ...      NaN    NaN    NaN    NaN    NaN    NaN    NaN   \n",
      "19            NaN  ...      NaN    NaN    NaN    NaN    NaN    NaN    NaN   \n",
      "20            NaN  ...      NaN    NaN    NaN    NaN    NaN    NaN    NaN   \n",
      "21            NaN  ...      NaN    NaN   True   True    NaN    NaN    NaN   \n",
      "22            NaN  ...      NaN    NaN    NaN    NaN    NaN    NaN    NaN   \n",
      "23            NaN  ...      NaN    NaN   True    NaN   True    NaN    NaN   \n",
      "24            NaN  ...      NaN    NaN    NaN    NaN    NaN   True    NaN   \n",
      "25            NaN  ...      NaN    NaN    NaN    NaN    NaN    NaN    NaN   \n",
      "26            NaN  ...      NaN    NaN   True    NaN    NaN    NaN    NaN   \n",
      "27            NaN  ...      NaN    NaN    NaN    NaN    NaN    NaN    NaN   \n",
      "28            NaN  ...      NaN    NaN    NaN    NaN    NaN    NaN    NaN   \n",
      "29            NaN  ...      NaN    NaN    NaN    NaN    NaN    NaN    NaN   \n",
      "30            NaN  ...      NaN    NaN    NaN    NaN    NaN    NaN    NaN   \n",
      "...           ...  ...      ...    ...    ...    ...    ...    ...    ...   \n",
      "5120          NaN  ...      NaN    NaN    NaN    NaN    NaN    NaN    NaN   \n",
      "5121          NaN  ...      NaN    NaN    NaN    NaN    NaN    NaN    NaN   \n",
      "5122          NaN  ...      NaN    NaN    NaN    NaN    NaN    NaN    NaN   \n",
      "5123          NaN  ...      NaN    NaN   True   True    NaN    NaN    NaN   \n",
      "5124          NaN  ...      NaN    NaN    NaN    NaN    NaN    NaN    NaN   \n",
      "5125          NaN  ...      NaN    NaN    NaN    NaN    NaN    NaN    NaN   \n",
      "5126          NaN  ...      NaN    NaN    NaN    NaN    NaN    NaN    NaN   \n",
      "5127          NaN  ...     True    NaN    NaN    NaN    NaN    NaN    NaN   \n",
      "5128          NaN  ...      NaN    NaN    NaN    NaN    NaN    NaN    NaN   \n",
      "5129          NaN  ...      NaN    NaN    NaN    NaN    NaN    NaN    NaN   \n",
      "5130          NaN  ...      NaN    NaN    NaN    NaN    NaN    NaN    NaN   \n",
      "5131          NaN  ...      NaN    NaN    NaN    NaN    NaN    NaN    NaN   \n",
      "5132          NaN  ...      NaN    NaN    NaN    NaN    NaN    NaN    NaN   \n",
      "5133          NaN  ...      NaN    NaN    NaN    NaN    NaN    NaN    NaN   \n",
      "5134          NaN  ...      NaN    NaN    NaN    NaN    NaN    NaN    NaN   \n",
      "5135          NaN  ...      NaN    NaN    NaN    NaN    NaN    NaN    NaN   \n",
      "5136          NaN  ...      NaN    NaN    NaN    NaN    NaN    NaN    NaN   \n",
      "5137          NaN  ...      NaN    NaN    NaN    NaN    NaN    NaN    NaN   \n",
      "5138          NaN  ...      NaN    NaN    NaN    NaN    NaN    NaN    NaN   \n",
      "5139          NaN  ...      NaN    NaN    NaN    NaN    NaN    NaN    NaN   \n",
      "5140          NaN  ...      NaN    NaN    NaN    NaN    NaN    NaN    NaN   \n",
      "5141          NaN  ...      NaN    NaN    NaN    NaN    NaN    NaN    NaN   \n",
      "5142          NaN  ...      NaN    NaN    NaN    NaN    NaN    NaN    NaN   \n",
      "5143          NaN  ...      NaN    NaN   True    NaN    NaN    NaN    NaN   \n",
      "5144          NaN  ...      NaN    NaN    NaN    NaN    NaN    NaN    NaN   \n",
      "5145          NaN  ...      NaN    NaN    NaN    NaN    NaN    NaN    NaN   \n",
      "5146          NaN  ...      NaN    NaN    NaN    NaN    NaN    NaN    NaN   \n",
      "5147          NaN  ...      NaN    NaN    NaN    NaN    NaN    NaN    NaN   \n",
      "5148          NaN  ...      NaN    NaN    NaN    NaN    NaN    NaN    NaN   \n",
      "5149          NaN  ...      NaN    NaN    NaN    NaN    NaN    NaN    NaN   \n",
      "\n",
      "article_id 1442.0 1443.0 1444.0  \n",
      "user_id                          \n",
      "1             NaN    NaN    NaN  \n",
      "2             NaN    NaN    NaN  \n",
      "3             NaN    NaN    NaN  \n",
      "4             NaN    NaN    NaN  \n",
      "5             NaN    NaN    NaN  \n",
      "6             NaN    NaN    NaN  \n",
      "7             NaN    NaN    NaN  \n",
      "8             NaN    NaN    NaN  \n",
      "9             NaN    NaN    NaN  \n",
      "10            NaN    NaN    NaN  \n",
      "11            NaN    NaN    NaN  \n",
      "12            NaN    NaN    NaN  \n",
      "13            NaN    NaN    NaN  \n",
      "14            NaN    NaN    NaN  \n",
      "15            NaN    NaN    NaN  \n",
      "16            NaN    NaN    NaN  \n",
      "17            NaN    NaN    NaN  \n",
      "18            NaN    NaN    NaN  \n",
      "19            NaN    NaN    NaN  \n",
      "20            NaN    NaN    NaN  \n",
      "21            NaN    NaN    NaN  \n",
      "22            NaN    NaN    NaN  \n",
      "23            NaN    NaN    NaN  \n",
      "24            NaN    NaN    NaN  \n",
      "25            NaN    NaN    NaN  \n",
      "26            NaN    NaN    NaN  \n",
      "27            NaN    NaN    NaN  \n",
      "28            NaN    NaN    NaN  \n",
      "29            NaN    NaN    NaN  \n",
      "30            NaN    NaN    NaN  \n",
      "...           ...    ...    ...  \n",
      "5120          NaN    NaN    NaN  \n",
      "5121          NaN    NaN    NaN  \n",
      "5122          NaN    NaN    NaN  \n",
      "5123          NaN    NaN    NaN  \n",
      "5124          NaN    NaN    NaN  \n",
      "5125          NaN    NaN    NaN  \n",
      "5126          NaN    NaN    NaN  \n",
      "5127          NaN    NaN    NaN  \n",
      "5128          NaN    NaN    NaN  \n",
      "5129          NaN    NaN    NaN  \n",
      "5130          NaN    NaN    NaN  \n",
      "5131          NaN    NaN    NaN  \n",
      "5132          NaN    NaN    NaN  \n",
      "5133          NaN    NaN    NaN  \n",
      "5134          NaN    NaN    NaN  \n",
      "5135          NaN    NaN    NaN  \n",
      "5136          NaN    NaN    NaN  \n",
      "5137          NaN    NaN    NaN  \n",
      "5138          NaN    NaN    NaN  \n",
      "5139          NaN    NaN    NaN  \n",
      "5140          NaN    NaN    NaN  \n",
      "5141          NaN    NaN    NaN  \n",
      "5142          NaN    NaN    NaN  \n",
      "5143          NaN    NaN    NaN  \n",
      "5144          NaN    NaN    NaN  \n",
      "5145          NaN    NaN    NaN  \n",
      "5146          NaN    NaN    NaN  \n",
      "5147          NaN    NaN    NaN  \n",
      "5148          NaN    NaN    NaN  \n",
      "5149          NaN    NaN    NaN  \n",
      "\n",
      "[5149 rows x 714 columns]\n"
     ]
    }
   ],
   "source": [
    "user_item = df.groupby(['user_id', 'article_id'])['title'].count().notnull().unstack()\n",
    "print(user_item)    "
   ]
  },
  {
   "cell_type": "code",
   "execution_count": 26,
   "metadata": {},
   "outputs": [
    {
     "name": "stdout",
     "output_type": "stream",
     "text": [
      "article_id  0.0     2.0     4.0     8.0     9.0     12.0    14.0    15.0    \\\n",
      "user_id                                                                      \n",
      "1                0       0       0       0       0       0       0       0   \n",
      "2                0       0       0       0       0       0       0       0   \n",
      "3                0       0       0       0       0       1       0       0   \n",
      "4                0       0       0       0       0       0       0       0   \n",
      "5                0       0       0       0       0       0       0       0   \n",
      "6                0       0       0       0       0       0       0       0   \n",
      "7                0       0       0       0       0       0       0       0   \n",
      "8                0       0       0       0       0       0       1       0   \n",
      "9                0       0       0       0       0       0       1       0   \n",
      "10               0       0       0       0       0       0       0       0   \n",
      "11               0       0       0       0       0       1       0       0   \n",
      "12               0       0       0       0       0       0       1       0   \n",
      "13               0       0       0       0       0       0       1       0   \n",
      "14               0       0       0       0       0       0       0       0   \n",
      "15               0       0       0       0       0       0       0       0   \n",
      "16               0       0       0       0       0       0       0       0   \n",
      "17               0       0       0       0       0       0       0       0   \n",
      "18               0       0       0       0       0       0       0       0   \n",
      "19               0       0       0       0       0       0       0       0   \n",
      "20               0       0       0       0       0       0       0       0   \n",
      "21               0       0       0       0       0       0       1       0   \n",
      "22               0       0       0       0       0       1       0       0   \n",
      "23               0       1       0       0       0       1       1       0   \n",
      "24               0       0       0       0       0       0       0       0   \n",
      "25               0       0       0       0       0       0       0       0   \n",
      "26               0       0       0       0       0       0       0       0   \n",
      "27               0       0       0       0       0       0       0       0   \n",
      "28               0       0       0       0       0       1       0       0   \n",
      "29               0       0       0       0       0       0       0       0   \n",
      "30               0       0       0       0       0       0       0       0   \n",
      "...            ...     ...     ...     ...     ...     ...     ...     ...   \n",
      "5120             0       0       0       0       0       0       0       0   \n",
      "5121             0       0       0       0       0       0       0       0   \n",
      "5122             0       0       0       1       0       0       0       0   \n",
      "5123             0       0       0       0       0       0       0       0   \n",
      "5124             0       0       0       0       0       0       0       0   \n",
      "5125             0       0       0       0       0       0       0       0   \n",
      "5126             0       0       0       0       0       0       0       0   \n",
      "5127             0       0       0       0       0       0       0       0   \n",
      "5128             0       0       0       0       0       0       0       0   \n",
      "5129             0       0       0       0       0       0       0       0   \n",
      "5130             0       0       0       0       0       0       0       0   \n",
      "5131             0       0       0       0       0       0       0       0   \n",
      "5132             0       0       0       0       0       0       0       0   \n",
      "5133             0       0       0       0       0       0       0       0   \n",
      "5134             0       0       0       0       0       0       0       0   \n",
      "5135             0       0       0       0       0       0       0       0   \n",
      "5136             0       0       0       0       0       0       0       0   \n",
      "5137             0       0       0       0       0       0       0       0   \n",
      "5138             0       0       0       0       0       1       1       0   \n",
      "5139             0       0       0       0       0       0       0       1   \n",
      "5140             0       1       0       0       0       1       0       0   \n",
      "5141             0       0       0       0       0       0       0       0   \n",
      "5142             0       0       0       0       0       0       1       0   \n",
      "5143             0       0       0       0       0       0       0       0   \n",
      "5144             0       0       0       0       0       0       0       0   \n",
      "5145             0       0       0       0       0       0       0       0   \n",
      "5146             0       0       0       0       0       0       0       0   \n",
      "5147             0       0       0       0       0       0       0       0   \n",
      "5148             0       0       0       0       0       0       0       0   \n",
      "5149             0       0       0       0       0       0       0       0   \n",
      "\n",
      "article_id  16.0    18.0     ...    1434.0  1435.0  1436.0  1437.0  1439.0  \\\n",
      "user_id                      ...                                             \n",
      "1                0       0   ...         0       0       1       0       1   \n",
      "2                0       0   ...         0       0       0       0       0   \n",
      "3                0       0   ...         0       0       1       0       0   \n",
      "4                0       0   ...         0       0       0       0       0   \n",
      "5                0       0   ...         0       0       0       0       0   \n",
      "6                0       0   ...         0       0       1       0       0   \n",
      "7                0       0   ...         0       0       0       0       0   \n",
      "8                0       0   ...         0       0       1       0       0   \n",
      "9                1       0   ...         0       0       0       0       0   \n",
      "10               0       0   ...         0       0       0       0       0   \n",
      "11               0       0   ...         0       0       0       0       0   \n",
      "12               0       0   ...         0       0       0       0       0   \n",
      "13               0       0   ...         0       0       0       0       0   \n",
      "14               0       0   ...         0       0       0       0       0   \n",
      "15               0       0   ...         0       0       0       0       0   \n",
      "16               0       0   ...         0       0       0       0       0   \n",
      "17               0       0   ...         0       0       0       0       0   \n",
      "18               0       0   ...         0       0       0       0       0   \n",
      "19               0       0   ...         0       0       0       0       0   \n",
      "20               0       0   ...         0       0       0       0       0   \n",
      "21               0       0   ...         0       0       1       1       0   \n",
      "22               0       0   ...         0       0       0       0       0   \n",
      "23               1       0   ...         0       0       1       0       1   \n",
      "24               0       0   ...         0       0       0       0       0   \n",
      "25               0       0   ...         0       0       0       0       0   \n",
      "26               0       0   ...         0       0       1       0       0   \n",
      "27               0       0   ...         0       0       0       0       0   \n",
      "28               0       0   ...         0       0       0       0       0   \n",
      "29               0       0   ...         0       0       0       0       0   \n",
      "30               0       0   ...         0       0       0       0       0   \n",
      "...            ...     ...   ...       ...     ...     ...     ...     ...   \n",
      "5120             0       0   ...         0       0       0       0       0   \n",
      "5121             0       0   ...         0       0       0       0       0   \n",
      "5122             0       0   ...         0       0       0       0       0   \n",
      "5123             0       0   ...         0       0       1       1       0   \n",
      "5124             0       0   ...         0       0       0       0       0   \n",
      "5125             0       0   ...         0       0       0       0       0   \n",
      "5126             0       0   ...         0       0       0       0       0   \n",
      "5127             0       0   ...         1       0       0       0       0   \n",
      "5128             0       0   ...         0       0       0       0       0   \n",
      "5129             0       0   ...         0       0       0       0       0   \n",
      "5130             0       0   ...         0       0       0       0       0   \n",
      "5131             0       0   ...         0       0       0       0       0   \n",
      "5132             0       0   ...         0       0       0       0       0   \n",
      "5133             0       0   ...         0       0       0       0       0   \n",
      "5134             0       0   ...         0       0       0       0       0   \n",
      "5135             0       0   ...         0       0       0       0       0   \n",
      "5136             0       0   ...         0       0       0       0       0   \n",
      "5137             0       0   ...         0       0       0       0       0   \n",
      "5138             0       0   ...         0       0       0       0       0   \n",
      "5139             0       0   ...         0       0       0       0       0   \n",
      "5140             0       0   ...         0       0       0       0       0   \n",
      "5141             0       0   ...         0       0       0       0       0   \n",
      "5142             0       0   ...         0       0       0       0       0   \n",
      "5143             0       0   ...         0       0       1       0       0   \n",
      "5144             0       0   ...         0       0       0       0       0   \n",
      "5145             0       0   ...         0       0       0       0       0   \n",
      "5146             0       0   ...         0       0       0       0       0   \n",
      "5147             0       0   ...         0       0       0       0       0   \n",
      "5148             0       0   ...         0       0       0       0       0   \n",
      "5149             1       0   ...         0       0       0       0       0   \n",
      "\n",
      "article_id  1440.0  1441.0  1442.0  1443.0  1444.0  \n",
      "user_id                                             \n",
      "1                0       0       0       0       0  \n",
      "2                0       0       0       0       0  \n",
      "3                0       0       0       0       0  \n",
      "4                0       0       0       0       0  \n",
      "5                0       0       0       0       0  \n",
      "6                0       0       0       0       0  \n",
      "7                0       0       0       0       0  \n",
      "8                0       0       0       0       0  \n",
      "9                0       0       0       0       0  \n",
      "10               0       0       0       0       0  \n",
      "11               0       0       0       0       0  \n",
      "12               0       0       0       0       0  \n",
      "13               0       0       0       0       0  \n",
      "14               0       0       0       0       0  \n",
      "15               0       0       0       0       0  \n",
      "16               0       0       0       0       0  \n",
      "17               0       0       0       0       0  \n",
      "18               0       0       0       0       0  \n",
      "19               0       0       0       0       0  \n",
      "20               0       0       0       0       0  \n",
      "21               0       0       0       0       0  \n",
      "22               0       0       0       0       0  \n",
      "23               0       0       0       0       0  \n",
      "24               1       0       0       0       0  \n",
      "25               0       0       0       0       0  \n",
      "26               0       0       0       0       0  \n",
      "27               0       0       0       0       0  \n",
      "28               0       0       0       0       0  \n",
      "29               0       0       0       0       0  \n",
      "30               0       0       0       0       0  \n",
      "...            ...     ...     ...     ...     ...  \n",
      "5120             0       0       0       0       0  \n",
      "5121             0       0       0       0       0  \n",
      "5122             0       0       0       0       0  \n",
      "5123             0       0       0       0       0  \n",
      "5124             0       0       0       0       0  \n",
      "5125             0       0       0       0       0  \n",
      "5126             0       0       0       0       0  \n",
      "5127             0       0       0       0       0  \n",
      "5128             0       0       0       0       0  \n",
      "5129             0       0       0       0       0  \n",
      "5130             0       0       0       0       0  \n",
      "5131             0       0       0       0       0  \n",
      "5132             0       0       0       0       0  \n",
      "5133             0       0       0       0       0  \n",
      "5134             0       0       0       0       0  \n",
      "5135             0       0       0       0       0  \n",
      "5136             0       0       0       0       0  \n",
      "5137             0       0       0       0       0  \n",
      "5138             0       0       0       0       0  \n",
      "5139             0       0       0       0       0  \n",
      "5140             0       0       0       0       0  \n",
      "5141             0       0       0       0       0  \n",
      "5142             0       0       0       0       0  \n",
      "5143             0       0       0       0       0  \n",
      "5144             0       0       0       0       0  \n",
      "5145             0       0       0       0       0  \n",
      "5146             0       0       0       0       0  \n",
      "5147             0       0       0       0       0  \n",
      "5148             0       0       0       0       0  \n",
      "5149             0       0       0       0       0  \n",
      "\n",
      "[5149 rows x 714 columns]\n"
     ]
    }
   ],
   "source": [
    "user_item = user_item.notnull().astype(np.int)\n",
    "print(user_item) "
   ]
  },
  {
   "cell_type": "code",
   "execution_count": 27,
   "metadata": {},
   "outputs": [],
   "source": [
    "# create the user-article matrix with 1's and 0's\n",
    "\n",
    "def create_user_item_matrix(df):\n",
    "    '''\n",
    "    INPUT:\n",
    "    df - pandas dataframe with article_id, title, user_id columns\n",
    "    \n",
    "    OUTPUT:\n",
    "    user_item - user item matrix \n",
    "    \n",
    "    Description:\n",
    "    Return a matrix with user ids as rows and article ids on the columns with 1 values where a user interacted with \n",
    "    an article and a 0 otherwise\n",
    "    '''\n",
    "    user_item = df.groupby(['user_id', 'article_id'])['title'].count().notnull().unstack()\n",
    "    user_item = user_item.notnull().astype(np.int)\n",
    "    \n",
    "    return user_item # return the user_item matrix \n",
    "\n",
    "user_item = create_user_item_matrix(df)"
   ]
  },
  {
   "cell_type": "code",
   "execution_count": 28,
   "metadata": {},
   "outputs": [
    {
     "name": "stdout",
     "output_type": "stream",
     "text": [
      "You have passed our quick tests!  Please proceed!\n"
     ]
    }
   ],
   "source": [
    "## Tests: You should just need to run this cell.  Don't change the code.\n",
    "assert user_item.shape[0] == 5149, \"Oops!  The number of users in the user-article matrix doesn't look right.\"\n",
    "assert user_item.shape[1] == 714, \"Oops!  The number of articles in the user-article matrix doesn't look right.\"\n",
    "assert user_item.sum(axis=1)[1] == 36, \"Oops!  The number of articles seen by user 1 doesn't look right.\"\n",
    "print(\"You have passed our quick tests!  Please proceed!\")"
   ]
  },
  {
   "cell_type": "markdown",
   "metadata": {},
   "source": [
    "`2.` Complete the function below which should take a user_id and provide an ordered list of the most similar users to that user (from most similar to least similar).  The returned result should not contain the provided user_id, as we know that each user is similar to him/herself. Because the results for each user here are binary, it (perhaps) makes sense to compute similarity as the dot product of two users. \n",
    "\n",
    "Use the tests to test your function."
   ]
  },
  {
   "cell_type": "code",
   "execution_count": 29,
   "metadata": {},
   "outputs": [
    {
     "data": {
      "text/plain": [
       "article_id\n",
       "0.0       0\n",
       "2.0       0\n",
       "4.0       0\n",
       "8.0       0\n",
       "9.0       0\n",
       "12.0      0\n",
       "14.0      0\n",
       "15.0      0\n",
       "16.0      0\n",
       "18.0      0\n",
       "20.0      0\n",
       "25.0      0\n",
       "26.0      0\n",
       "28.0      0\n",
       "29.0      0\n",
       "30.0      0\n",
       "32.0      0\n",
       "33.0      0\n",
       "34.0      0\n",
       "36.0      0\n",
       "39.0      0\n",
       "40.0      0\n",
       "43.0      1\n",
       "48.0      0\n",
       "50.0      0\n",
       "51.0      0\n",
       "53.0      0\n",
       "54.0      0\n",
       "57.0      0\n",
       "58.0      0\n",
       "         ..\n",
       "1412.0    0\n",
       "1414.0    0\n",
       "1415.0    0\n",
       "1416.0    0\n",
       "1418.0    0\n",
       "1419.0    0\n",
       "1420.0    0\n",
       "1421.0    0\n",
       "1422.0    0\n",
       "1423.0    0\n",
       "1424.0    0\n",
       "1425.0    0\n",
       "1426.0    0\n",
       "1427.0    1\n",
       "1428.0    0\n",
       "1429.0    1\n",
       "1430.0    1\n",
       "1431.0    1\n",
       "1432.0    0\n",
       "1433.0    0\n",
       "1434.0    0\n",
       "1435.0    0\n",
       "1436.0    1\n",
       "1437.0    0\n",
       "1439.0    1\n",
       "1440.0    0\n",
       "1441.0    0\n",
       "1442.0    0\n",
       "1443.0    0\n",
       "1444.0    0\n",
       "Name: 1, Length: 714, dtype: int64"
      ]
     },
     "execution_count": 29,
     "metadata": {},
     "output_type": "execute_result"
    }
   ],
   "source": [
    "user_item.loc[1]"
   ]
  },
  {
   "cell_type": "code",
   "execution_count": 30,
   "metadata": {},
   "outputs": [
    {
     "data": {
      "text/plain": [
       "array([36,  2,  6, ...,  0,  0,  0])"
      ]
     },
     "execution_count": 30,
     "metadata": {},
     "output_type": "execute_result"
    }
   ],
   "source": [
    "np.dot(user_item,user_item.loc[1])"
   ]
  },
  {
   "cell_type": "code",
   "execution_count": 31,
   "metadata": {},
   "outputs": [
    {
     "data": {
      "text/plain": [
       "user_id\n",
       "1       36\n",
       "3933    35\n",
       "23      17\n",
       "3782    17\n",
       "203     15\n",
       "4459    15\n",
       "131     14\n",
       "3870    14\n",
       "46      13\n",
       "4201    13\n",
       "5041    12\n",
       "49      12\n",
       "3697    12\n",
       "395     12\n",
       "3910    11\n",
       "322     11\n",
       "3622    11\n",
       "242     11\n",
       "4642    10\n",
       "290     10\n",
       "2982    10\n",
       "912     10\n",
       "3540    10\n",
       "98      10\n",
       "754     10\n",
       "3764    10\n",
       "256      9\n",
       "52       9\n",
       "268      9\n",
       "40       9\n",
       "        ..\n",
       "2906     0\n",
       "2909     0\n",
       "2954     0\n",
       "2910     0\n",
       "2952     0\n",
       "2951     0\n",
       "2950     0\n",
       "2947     0\n",
       "2945     0\n",
       "2944     0\n",
       "2943     0\n",
       "2942     0\n",
       "2939     0\n",
       "2938     0\n",
       "2937     0\n",
       "2936     0\n",
       "2933     0\n",
       "2931     0\n",
       "2930     0\n",
       "2929     0\n",
       "2928     0\n",
       "2927     0\n",
       "2923     0\n",
       "2922     0\n",
       "2921     0\n",
       "2920     0\n",
       "2918     0\n",
       "2916     0\n",
       "2911     0\n",
       "2575     0\n",
       "Length: 5149, dtype: int64"
      ]
     },
     "execution_count": 31,
     "metadata": {},
     "output_type": "execute_result"
    }
   ],
   "source": [
    "user_item.dot(user_item.loc[1]).sort_values(ascending = False)"
   ]
  },
  {
   "cell_type": "code",
   "execution_count": 32,
   "metadata": {},
   "outputs": [],
   "source": [
    "def find_similar_users(user_id, user_item=user_item):\n",
    "    '''\n",
    "    INPUT:\n",
    "    user_id - (int) a user_id\n",
    "    user_item - (pandas dataframe) matrix of users by articles: \n",
    "                1's when a user has interacted with an article, 0 otherwise\n",
    "    \n",
    "    OUTPUT:\n",
    "    similar_users - (list) an ordered list where the closest users (largest dot product users)\n",
    "                    are listed first\n",
    "    \n",
    "    Description:\n",
    "    Computes the similarity of every pair of users based on the dot product\n",
    "    Returns an ordered\n",
    "    \n",
    "    '''\n",
    "    # compute similarity of each user to the provided user\n",
    "    similarity_of_user = user_item.dot(user_item.loc[user_id])\n",
    "\n",
    "    # sort by similarity\n",
    "    \n",
    "    similarity_of_user.sort_values(ascending = False,inplace= True)\n",
    "\n",
    "    # create list of just the ids\n",
    "    \n",
    "    most_similar_users = list(similarity_of_user.index)\n",
    "   \n",
    "    # remove the own user's id\n",
    "    most_similar_users.remove(user_id)\n",
    "    \n",
    "       \n",
    "    return most_similar_users # return a list of the users in order from most to least similar\n",
    "        "
   ]
  },
  {
   "cell_type": "code",
   "execution_count": 33,
   "metadata": {},
   "outputs": [
    {
     "name": "stdout",
     "output_type": "stream",
     "text": [
      "The 10 most similar users to user 1 are: [3933, 23, 3782, 203, 4459, 131, 3870, 46, 4201, 5041]\n",
      "The 5 most similar users to user 3933 are: [1, 23, 3782, 4459, 203]\n",
      "The 3 most similar users to user 46 are: [4201, 23, 3782]\n"
     ]
    }
   ],
   "source": [
    "# Do a spot check of your function\n",
    "print(\"The 10 most similar users to user 1 are: {}\".format(find_similar_users(1)[:10]))\n",
    "print(\"The 5 most similar users to user 3933 are: {}\".format(find_similar_users(3933)[:5]))\n",
    "print(\"The 3 most similar users to user 46 are: {}\".format(find_similar_users(46)[:3]))"
   ]
  },
  {
   "cell_type": "code",
   "execution_count": 34,
   "metadata": {},
   "outputs": [],
   "source": [
    "similar_users=find_similar_users(1)"
   ]
  },
  {
   "cell_type": "markdown",
   "metadata": {},
   "source": [
    "`3.` Now that you have a function that provides the most similar users to each user, you will want to use these users to find articles you can recommend.  Complete the functions below to return the articles you would recommend to each user. "
   ]
  },
  {
   "cell_type": "code",
   "execution_count": 35,
   "metadata": {},
   "outputs": [],
   "source": [
    "def get_article_names(article_ids, df=df):\n",
    "    '''\n",
    "    INPUT:\n",
    "    article_ids - (list) a list of article ids\n",
    "    df - (pandas dataframe) df as defined at the top of the notebook\n",
    "    \n",
    "    OUTPUT:\n",
    "    article_names - (list) a list of article names associated with the list of article ids \n",
    "                    (this is identified by the title column)\n",
    "    '''\n",
    "    # Your code here\n",
    "    article_names = list(np.unique(df[df.article_id.isin(article_ids)]['title']))\n",
    "    \n",
    "    return article_names # Return the article names associated with list of article ids\n",
    "\n",
    "\n",
    "def get_user_articles(user_id, user_item=user_item):\n",
    "    '''\n",
    "    INPUT:\n",
    "    user_id - (int) a user id\n",
    "    user_item - (pandas dataframe) matrix of users by articles: \n",
    "                1's when a user has interacted with an article, 0 otherwise\n",
    "    \n",
    "    OUTPUT:\n",
    "    article_ids - (list) a list of the article ids seen by the user\n",
    "    article_names - (list) a list of article names associated with the list of article ids \n",
    "                    (this is identified by the doc_full_name column in df_content)\n",
    "    \n",
    "    Description:\n",
    "    Provides a list of the article_ids and article titles that have been seen by a user\n",
    "    '''\n",
    "    # Your code here\n",
    "    article_ids = user_item.loc[user_id]\n",
    "    article_ids =  [str(n_id) for n_id in article_ids[article_ids == 1].index]\n",
    "    \n",
    "    article_names = get_article_names(article_ids)\n",
    "    \n",
    "    return article_ids, article_names # return the ids and names\n",
    "\n",
    "\n",
    "def user_user_recs(user_id, m=10):\n",
    "    '''\n",
    "    INPUT:\n",
    "    user_id - (int) a user id\n",
    "    m - (int) the number of recommendations you want for the user\n",
    "    \n",
    "    OUTPUT:\n",
    "    recs - (list) a list of recommendations for the user\n",
    "    \n",
    "    Description:\n",
    "    Loops through the users based on closeness to the input user_id\n",
    "    For each user - finds articles the user hasn't seen before and provides them as recs\n",
    "    Does this until m recommendations are found\n",
    "    \n",
    "    Notes:\n",
    "    Users who are the same closeness are chosen arbitrarily as the 'next' user\n",
    "    \n",
    "    For the user where the number of recommended articles starts below m \n",
    "    and ends exceeding m, the last items are chosen arbitrarily\n",
    "    \n",
    "    '''\n",
    "    # Your code here\n",
    "    \n",
    "    similar_users = find_similar_users(user_id)\n",
    "    articles_seen = pd.Series(get_user_articles(user_id)[0]) #just the id\n",
    "    \n",
    "    recs_f = df[df['user_id'].isin(similar_users)]['article_id'].tolist()\n",
    "    recs = pd.Series([x for x in recs_f if x not in articles_seen])\n",
    "    \n",
    "    recs = list(set(recs))[:m]\n",
    "    \n",
    "    return recs # return your recommendations for this user_id    "
   ]
  },
  {
   "cell_type": "code",
   "execution_count": 36,
   "metadata": {},
   "outputs": [
    {
     "data": {
      "text/plain": [
       "(45946,)"
      ]
     },
     "execution_count": 36,
     "metadata": {},
     "output_type": "execute_result"
    }
   ],
   "source": [
    "recs = df[df['user_id'].isin(similar_users)]['article_id']\n",
    "recs.shape"
   ]
  },
  {
   "cell_type": "code",
   "execution_count": 37,
   "metadata": {
    "scrolled": true
   },
   "outputs": [
    {
     "data": {
      "text/plain": [
       "0       43.0\n",
       "1      109.0\n",
       "2      151.0\n",
       "3      268.0\n",
       "4      310.0\n",
       "5      329.0\n",
       "6      346.0\n",
       "7      390.0\n",
       "8      494.0\n",
       "9      525.0\n",
       "10     585.0\n",
       "11     626.0\n",
       "12     668.0\n",
       "13     732.0\n",
       "14     768.0\n",
       "15     910.0\n",
       "16     968.0\n",
       "17     981.0\n",
       "18    1052.0\n",
       "19    1170.0\n",
       "20    1183.0\n",
       "21    1185.0\n",
       "22    1232.0\n",
       "23    1293.0\n",
       "24    1305.0\n",
       "25    1363.0\n",
       "26    1368.0\n",
       "27    1391.0\n",
       "28    1400.0\n",
       "29    1406.0\n",
       "30    1427.0\n",
       "31    1429.0\n",
       "32    1430.0\n",
       "33    1431.0\n",
       "34    1436.0\n",
       "35    1439.0\n",
       "dtype: object"
      ]
     },
     "execution_count": 37,
     "metadata": {},
     "output_type": "execute_result"
    }
   ],
   "source": [
    "articles_seen=pd.Series(get_user_articles(1)[0])\n",
    "articles_seen"
   ]
  },
  {
   "cell_type": "code",
   "execution_count": 38,
   "metadata": {},
   "outputs": [
    {
     "data": {
      "text/plain": [
       "['8 ways to turn data into value with apache spark machine learning',\n",
       " 'data science experience documentation',\n",
       " 'data visualization playbook: the right level of detail',\n",
       " 'deep learning with tensorflow course by big data university',\n",
       " 'ensemble learning to improve machine learning results',\n",
       " 'graph-based machine learning',\n",
       " 'introducing streams designer',\n",
       " 'modern machine learning algorithms',\n",
       " 'pulling and displaying etf data',\n",
       " 'transfer learning for flight delay prediction via variational autoencoders']"
      ]
     },
     "execution_count": 38,
     "metadata": {},
     "output_type": "execute_result"
    }
   ],
   "source": [
    "# Check Results\n",
    "get_article_names(user_user_recs(1,10)) # Return 10 recommendations for user 1"
   ]
  },
  {
   "cell_type": "code",
   "execution_count": 39,
   "metadata": {},
   "outputs": [
    {
     "name": "stdout",
     "output_type": "stream",
     "text": [
      "If this is all you see, you passed all of our tests!  Nice job!\n"
     ]
    }
   ],
   "source": [
    "# Test your functions here - No need to change this code - just run this cell\n",
    "assert set(get_article_names(['1024.0', '1176.0', '1305.0', '1314.0', '1422.0', '1427.0'])) == set(['using deep learning to reconstruct high-resolution audio', 'build a python app on the streaming analytics service', 'gosales transactions for naive bayes model', 'healthcare python streaming application demo', 'use r dataframes & ibm watson natural language understanding', 'use xgboost, scikit-learn & ibm watson machine learning apis']), \"Oops! Your the get_article_names function doesn't work quite how we expect.\"\n",
    "assert set(get_article_names(['1320.0', '232.0', '844.0'])) == set(['housing (2015): united states demographic measures','self-service data preparation with ibm data refinery','use the cloudant-spark connector in python notebook']), \"Oops! Your the get_article_names function doesn't work quite how we expect.\"\n",
    "assert set(get_user_articles(20)[0]) == set(['1320.0', '232.0', '844.0'])\n",
    "assert set(get_user_articles(20)[1]) == set(['housing (2015): united states demographic measures', 'self-service data preparation with ibm data refinery','use the cloudant-spark connector in python notebook'])\n",
    "assert set(get_user_articles(2)[0]) == set(['1024.0', '1176.0', '1305.0', '1314.0', '1422.0', '1427.0'])\n",
    "assert set(get_user_articles(2)[1]) == set(['using deep learning to reconstruct high-resolution audio', 'build a python app on the streaming analytics service', 'gosales transactions for naive bayes model', 'healthcare python streaming application demo', 'use r dataframes & ibm watson natural language understanding', 'use xgboost, scikit-learn & ibm watson machine learning apis'])\n",
    "print(\"If this is all you see, you passed all of our tests!  Nice job!\")"
   ]
  },
  {
   "cell_type": "markdown",
   "metadata": {},
   "source": [
    "`4.` Now we are going to improve the consistency of the **user_user_recs** function from above.  \n",
    "\n",
    "* Instead of arbitrarily choosing when we obtain users who are all the same closeness to a given user - choose the users that have the most total article interactions before choosing those with fewer article interactions.\n",
    "\n",
    "\n",
    "* Instead of arbitrarily choosing articles from the user where the number of recommended articles starts below m and ends exceeding m, choose articles with the articles with the most total interactions before choosing those with fewer total interactions. This ranking should be  what would be obtained from the **top_articles** function you wrote earlier."
   ]
  },
  {
   "cell_type": "code",
   "execution_count": 40,
   "metadata": {},
   "outputs": [],
   "source": [
    "def get_top_sorted_users(user_id, df=df, user_item=user_item):\n",
    "    '''\n",
    "    INPUT:\n",
    "    user_id - (int)\n",
    "    df - (pandas dataframe) df as defined at the top of the notebook \n",
    "    user_item - (pandas dataframe) matrix of users by articles: \n",
    "            1's when a user has interacted with an article, 0 otherwise\n",
    "    \n",
    "            \n",
    "    OUTPUT:\n",
    "    neighbors_df - (pandas dataframe) a dataframe with:\n",
    "                    neighbor_id - is a neighbor user_id\n",
    "                    similarity - measure of the similarity of each user to the provided user_id\n",
    "                    num_interactions - the number of articles viewed by the user - if a u\n",
    "                    \n",
    "    Other Details - sort the neighbors_df by the similarity and then by number of interactions where \n",
    "                    highest of each is higher in the dataframe\n",
    "     \n",
    "    '''\n",
    "    # Your code here\n",
    "    neighbors_df = pd.DataFrame(columns=['neighbor_id', 'similarity', 'num_interactions'])\n",
    "    neighbors_df['neighbor_id'] = user_item.index\n",
    "    neighbors_df['similarity'] = user_item.dot(user_item.loc[user_id]).values\n",
    "    neighbors_df['num_interactions'] = df.user_id.value_counts().sort_index()\n",
    "    neighbors_df = neighbors_df[neighbors_df.neighbor_id != user_id]\n",
    "    \n",
    "    neighbors_df.sort_values(by = ['similarity', 'num_interactions'], ascending=[False, False], inplace=True)\n",
    "    \n",
    "    \n",
    "    return neighbors_df # Return the dataframe specified in the doc_string\n",
    "\n",
    "\n",
    "def user_user_recs_part2(user_id, m=10):\n",
    "    '''\n",
    "    INPUT:\n",
    "    user_id - (int) a user id\n",
    "    m - (int) the number of recommendations you want for the user\n",
    "    \n",
    "    OUTPUT:\n",
    "    recs - (list) a list of recommendations for the user by article id\n",
    "    rec_names - (list) a list of recommendations for the user by article title\n",
    "    \n",
    "    Description:\n",
    "    Loops through the users based on closeness to the input user_id\n",
    "    For each user - finds articles the user hasn't seen before and provides them as recs\n",
    "    Does this until m recommendations are found\n",
    "    \n",
    "    Notes:\n",
    "    * Choose the users that have the most total article interactions \n",
    "    before choosing those with fewer article interactions.\n",
    "\n",
    "    * Choose articles with the articles with the most total interactions \n",
    "    before choosing those with fewer total interactions. \n",
    "   \n",
    "    '''\n",
    "    # Your code here\n",
    "    articles_seen = get_user_articles(user_id)[0]\n",
    "    neighbors_df = get_top_sorted_users(user_id)\n",
    "    \n",
    "    sorted_neighbors = list(neighbors_df[:m]['neighbor_id'])\n",
    "\n",
    "    # set article_ids seen by top-m neighbors\n",
    "    recs_f = recs = np.array([])\n",
    "    \n",
    "    for users in sorted_neighbors:\n",
    "        other_user_articles = get_user_articles(users, user_item)[0]\n",
    "        \n",
    "        new_recs = np.setdiff1d(other_user_articles, articles_seen, assume_unique=True)\n",
    "        \n",
    "        recs = np.unique(np.concatenate([new_recs, recs], axis=0))\n",
    "             \n",
    "        if len(recs) >= m:\n",
    "            break\n",
    "            \n",
    "    recs = list(recs[:m])\n",
    "    rec_names = get_article_names(recs)    \n",
    "    \n",
    "    return recs, rec_names"
   ]
  },
  {
   "cell_type": "code",
   "execution_count": 41,
   "metadata": {},
   "outputs": [
    {
     "name": "stdout",
     "output_type": "stream",
     "text": [
      "The top 10 recommendations for user 20 are the following article ids:\n",
      "['1014.0', '1059.0', '109.0', '111.0', '1157.0', '1162.0', '1164.0', '1172.0', '1186.0', '12.0']\n",
      "\n",
      "The top 10 recommendations for user 20 are the following article names:\n",
      "['1448    i ranked every intro to data science course on...\\nName: title, dtype: object', 'airbnb data for analytics: amsterdam calendar', 'airbnb data for analytics: washington d.c. listings', 'analyze energy consumption in buildings', 'analyze open data sets with pandas dataframes', 'apache spark lab, part 3: machine learning', 'connect to db2 warehouse on cloud and db2 using scala', 'tensorflow quick tips', 'tidy up your jupyter notebooks with scripts', 'timeseries data analysis of iot events by using jupyter notebook']\n"
     ]
    }
   ],
   "source": [
    "# Quick spot check - don't change this code - just use it to test your functions\n",
    "rec_ids, rec_names = user_user_recs_part2(20, 10)\n",
    "print(\"The top 10 recommendations for user 20 are the following article ids:\")\n",
    "print(rec_ids)\n",
    "print()\n",
    "print(\"The top 10 recommendations for user 20 are the following article names:\")\n",
    "print(rec_names)"
   ]
  },
  {
   "cell_type": "markdown",
   "metadata": {},
   "source": [
    "`5.` Use your functions from above to correctly fill in the solutions to the dictionary below.  Then test your dictionary against the solution.  Provide the code you need to answer each following the comments below."
   ]
  },
  {
   "cell_type": "code",
   "execution_count": 42,
   "metadata": {},
   "outputs": [
    {
     "name": "stdout",
     "output_type": "stream",
     "text": [
      "      neighbor_id  similarity  num_interactions\n",
      "3869         3870          74               2.0\n",
      "3781         3782          39               5.0\n",
      "22             23          38              37.0\n",
      "202           203          33               1.0\n",
      "4458         4459          33               1.0\n",
      "3763         3764          29              26.0\n",
      "48             49          29              12.0\n",
      "97             98          29               3.0\n",
      "3696         3697          29               1.0\n",
      "241           242          25              26.0\n",
      "(10, 3)\n"
     ]
    },
    {
     "data": {
      "text/plain": [
       "242"
      ]
     },
     "execution_count": 42,
     "metadata": {},
     "output_type": "execute_result"
    }
   ],
   "source": [
    "user_131=get_top_sorted_users(131).head(10)\n",
    "print(user_131)\n",
    "print(user_131.shape)\n",
    "user_131.iloc[9,0]"
   ]
  },
  {
   "cell_type": "code",
   "execution_count": 43,
   "metadata": {},
   "outputs": [
    {
     "name": "stdout",
     "output_type": "stream",
     "text": [
      "      neighbor_id  similarity  num_interactions\n",
      "3932         3933          35               5.0\n",
      "22             23          17              37.0\n",
      "3781         3782          17               5.0\n",
      "202           203          15               1.0\n",
      "4458         4459          15               1.0\n",
      "130           131          14               2.0\n",
      "3869         3870          14               2.0\n",
      "45             46          13              73.0\n",
      "4200         4201          13              30.0\n",
      "48             49          12              12.0\n"
     ]
    },
    {
     "data": {
      "text/plain": [
       "3933"
      ]
     },
     "execution_count": 43,
     "metadata": {},
     "output_type": "execute_result"
    }
   ],
   "source": [
    "user_1=get_top_sorted_users(1).head(10)\n",
    "print(user_1)\n",
    "user_1.iloc[0,0]"
   ]
  },
  {
   "cell_type": "code",
   "execution_count": 44,
   "metadata": {},
   "outputs": [],
   "source": [
    "### Tests with a dictionary of results\n",
    "\n",
    "user1_most_sim = user_1.iloc[0,0] # Find the user that is most similar to user 1 \n",
    "user131_10th_sim = user_131.iloc[9,0]# Find the 10th most similar user to user 131"
   ]
  },
  {
   "cell_type": "code",
   "execution_count": 45,
   "metadata": {},
   "outputs": [
    {
     "name": "stdout",
     "output_type": "stream",
     "text": [
      "This all looks good!  Nice job!\n"
     ]
    }
   ],
   "source": [
    "## Dictionary Test Here\n",
    "sol_5_dict = {\n",
    "    'The user that is most similar to user 1.': user1_most_sim, \n",
    "    'The user that is the 10th most similar to user 131': user131_10th_sim,\n",
    "}\n",
    "\n",
    "t.sol_5_test(sol_5_dict)"
   ]
  },
  {
   "cell_type": "markdown",
   "metadata": {},
   "source": [
    "`6.` If we were given a new user, which of the above functions would you be able to use to make recommendations?  Explain.  Can you think of a better way we might make recommendations?  Use the cell below to explain a better method for new users."
   ]
  },
  {
   "cell_type": "markdown",
   "metadata": {},
   "source": [
    "**For new users we must afront at the cold start problem mentioned on the previous lesson.The recommendation is use Rank Based For New Users cause they had not interact with any article yet and to avoid the problem to of recommend always the similar articles to new users  also we can use some information that the user provide us during his registration for improve  accuracy, at this moment the recommendations for this new users would have to come from Knowledge Based Recommendations,to explain myself, Knowledge Based Recommendations could work at moment that new user doing the register process the page offer some  categorys to choose for example Machine Learning or Deep Learning. We could join the Rank Based For New Users and  Knowledge Based Recommendations  Having this, we can recommend the most popular articles or the better rated in topics that users are interest.**"
   ]
  },
  {
   "cell_type": "markdown",
   "metadata": {},
   "source": [
    "`7.` Using your existing functions, provide the top 10 recommended articles you would provide for the a new user below.  You can test your function against our thoughts to make sure we are all on the same page with how we might make a recommendation."
   ]
  },
  {
   "cell_type": "code",
   "execution_count": 46,
   "metadata": {},
   "outputs": [
    {
     "data": {
      "text/plain": [
       "[1429.0,\n",
       " 1330.0,\n",
       " 1431.0,\n",
       " 1427.0,\n",
       " 1364.0,\n",
       " 1314.0,\n",
       " 1293.0,\n",
       " 1170.0,\n",
       " 1162.0,\n",
       " 1304.0]"
      ]
     },
     "execution_count": 46,
     "metadata": {},
     "output_type": "execute_result"
    }
   ],
   "source": [
    "new_user = '0.0'\n",
    "\n",
    "# What would your recommendations be for this new user '0.0'?  As a new user, they have no observed articles.\n",
    "# Provide a list of the top 10 article ids you would give to \n",
    "#new_user_recs = get_top_article_ids(10)\n",
    "new_user_recs = [str(id) for id in get_top_article_ids(10)] # Your recommendations here\n",
    "\n",
    "get_top_article_ids(10)"
   ]
  },
  {
   "cell_type": "code",
   "execution_count": 47,
   "metadata": {},
   "outputs": [
    {
     "data": {
      "text/plain": [
       "['1429.0',\n",
       " '1330.0',\n",
       " '1431.0',\n",
       " '1427.0',\n",
       " '1364.0',\n",
       " '1314.0',\n",
       " '1293.0',\n",
       " '1170.0',\n",
       " '1162.0',\n",
       " '1304.0']"
      ]
     },
     "execution_count": 47,
     "metadata": {},
     "output_type": "execute_result"
    }
   ],
   "source": [
    "new_user_recs"
   ]
  },
  {
   "cell_type": "code",
   "execution_count": 48,
   "metadata": {},
   "outputs": [
    {
     "name": "stdout",
     "output_type": "stream",
     "text": [
      "That's right!  Nice job!\n"
     ]
    }
   ],
   "source": [
    "assert set(new_user_recs) == set(['1314.0','1429.0','1293.0','1427.0','1162.0','1364.0','1304.0','1170.0','1431.0','1330.0']), \"Oops!  It makes sense that in this case we would want to recommend the most popular articles, because we don't know anything about these users.\"\n",
    "\n",
    "print(\"That's right!  Nice job!\")"
   ]
  },
  {
   "cell_type": "markdown",
   "metadata": {},
   "source": [
    "### <a class=\"anchor\" id=\"Content-Recs\">Part IV: Content Based Recommendations (EXTRA - NOT REQUIRED)</a>\n",
    "\n",
    "Another method we might use to make recommendations is to perform a ranking of the highest ranked articles associated with some term.  You might consider content to be the **doc_body**, **doc_description**, or **doc_full_name**.  There isn't one way to create a content based recommendation, especially considering that each of these columns hold content related information.  \n",
    "\n",
    "`1.` Use the function body below to create a content based recommender.  Since there isn't one right answer for this recommendation tactic, no test functions are provided.  Feel free to change the function inputs if you decide you want to try a method that requires more input values.  The input values are currently set with one idea in mind that you may use to make content based recommendations.  One additional idea is that you might want to choose the most popular recommendations that meet your 'content criteria', but again, there is a lot of flexibility in how you might make these recommendations.\n",
    "\n",
    "### This part is NOT REQUIRED to pass this project.  However, you may choose to take this on as an extra way to show off your skills."
   ]
  },
  {
   "cell_type": "code",
   "execution_count": 75,
   "metadata": {},
   "outputs": [],
   "source": [
    "def tokenize(text):\n",
    "    text = re.sub(r\"[^a-zA-Z0-9]\", \" \", text)\n",
    "\n",
    "    words = word_tokenize(text)\n",
    "    words = [w for w in words if w not in stopwords.words(\"english\")]\n",
    "    \n",
    "    lemmatizer = WordNetLemmatizer()\n",
    "    clean_tokens = []\n",
    "    for tok in words:\n",
    "        clean_tok = lemmatizer.lemmatize(tok).lower().strip()\n",
    "        clean_tokens.append(clean_tok)\n",
    "\n",
    "    return clean_tokens"
   ]
  },
  {
   "cell_type": "code",
   "execution_count": 80,
   "metadata": {},
   "outputs": [],
   "source": [
    "# drop duplicate article_id and get tiles\n",
    "new_df = df.drop_duplicates(subset='article_id')\n",
    "titles = np.array(new_df[\"title\"])\n",
    "\n",
    "# get count of each token in text data\n",
    "vect = CountVectorizer(tokenizer=tokenize)\n",
    "X = vect.fit_transform(titles)\n",
    "\n",
    "# compute tfidf values\n",
    "transformer = TfidfTransformer(smooth_idf=False)\n",
    "tfidf = transformer.fit_transform(X)\n",
    "\n",
    "# convert sparse matrix to numpy array\n",
    "titles_tfidf = tfidf.toarray()\n",
    "\n",
    "# find similarity value using dot product of whole article\n",
    "dot_prod_titles = titles_tfidf.dot(np.transpose(titles_tfidf))"
   ]
  },
  {
   "cell_type": "code",
   "execution_count": 81,
   "metadata": {},
   "outputs": [],
   "source": [
    "def find_similar_articles(article_id, threshold=0.5):\n",
    "    # find the row of each article id\n",
    "    article_idx = np.where(new_df[\"article_id\"] == article_id)[0][0]\n",
    "    \n",
    "    # find the most similar article indices\n",
    "    similar_article_idxs = np.where(dot_prod_titles[article_idx] >= threshold*np.max(dot_prod_titles[article_idx]))[0]\n",
    "    \n",
    "    # find similar articles from new_df.\n",
    "    similar_articles = new_df.iloc[similar_article_idxs][\"article_id\"].tolist()\n",
    "    \n",
    "    return similar_articles"
   ]
  },
  {
   "cell_type": "code",
   "execution_count": 87,
   "metadata": {},
   "outputs": [],
   "source": [
    "def make_content_recs(_id,user_id=True, m=10, df=df):\n",
    "    '''\n",
    "    INPUT:\n",
    "        _id - Either user_id or article_id\n",
    "        user_id - parameter to indicate whether _id is user_id or article_id\n",
    "        m - number of recommendations\n",
    "        df - dataframe which has dot product of articles to itself(tranposed)\n",
    "    \n",
    "    OUTPUT:\n",
    "        list - m recommendation i.e. articles\n",
    "    \n",
    "    '''\n",
    "    \n",
    "    recs = set()\n",
    "    threshold = 0.2\n",
    "    top_m_articles = get_top_article_ids(m)\n",
    "    top_m_articles = list(map(lambda a: float(a), top_m_articles))\n",
    "    \n",
    "    if user_id:\n",
    "        # Pull only the articles the user has interacted with.\n",
    "        articles_temp = df[df['user_id'] == _id]\n",
    "        seen_ids = np.array(articles_temp['article_id'])\n",
    "        threshold = 0.5\n",
    "        \n",
    "        seen_ids = set(seen_ids)\n",
    "        for seen_id in seen_ids:\n",
    "            new_article_ids = find_similar_articles(seen_id, threshold)\n",
    "            recs = recs | set(new_article_ids)\n",
    "\n",
    "        recs.difference_update(seen_ids)\n",
    "        recs = list(recs)\n",
    "        \n",
    "    else:\n",
    "        seen_id = _id\n",
    "        try:\n",
    "            recs = find_similar_articles(seen_id, threshold)\n",
    "            recs.remove(seen_id)\n",
    "        except:\n",
    "            print(\"_id {} not found, returning top {} recommendations: \\n\".format(_id, m))\n",
    "            return top_m_articles\n",
    "    \n",
    "    if len(recs) < m:\n",
    "        recs.extend(top_m_articles)\n",
    "        recs = list(set(recs))\n",
    "    return recs[:m]"
   ]
  },
  {
   "cell_type": "markdown",
   "metadata": {},
   "source": [
    "`2.` Now that you have put together your content-based recommendation system, use the cell below to write a summary explaining how your content based recommender works.  Do you see any possible improvements that could be made to your function?  Is there anything novel about your content based recommender?\n",
    "\n",
    "### This part is NOT REQUIRED to pass this project.  However, you may choose to take this on as an extra way to show off your skills."
   ]
  },
  {
   "cell_type": "markdown",
   "metadata": {},
   "source": [
    "**Write an explanation of your content based recommendation system here.**"
   ]
  },
  {
   "cell_type": "markdown",
   "metadata": {},
   "source": [
    "`3.` Use your content-recommendation system to make recommendations for the below scenarios based on the comments.  Again no tests are provided here, because there isn't one right answer that could be used to find these content based recommendations.\n",
    "\n",
    "### This part is NOT REQUIRED to pass this project.  However, you may choose to take this on as an extra way to show off your skills."
   ]
  },
  {
   "cell_type": "code",
   "execution_count": 90,
   "metadata": {},
   "outputs": [
    {
     "data": {
      "text/plain": [
       "[1420.0, 1422.0, 124.0, 164.0, 521.0, 437.0, 809.0, 80.0, 241.0, 313.0]"
      ]
     },
     "execution_count": 90,
     "metadata": {},
     "output_type": "execute_result"
    }
   ],
   "source": [
    "# make a recommendations for a user who only has interacted with article id '1427.0'\n",
    "make_content_recs(1427.0, False)\n"
   ]
  },
  {
   "cell_type": "code",
   "execution_count": null,
   "metadata": {},
   "outputs": [],
   "source": [
    "# make recommendations for a brand new user\n",
    "print(make_content_recs(0))\n"
   ]
  },
  {
   "cell_type": "markdown",
   "metadata": {},
   "source": [
    "### <a class=\"anchor\" id=\"Matrix-Fact\">Part V: Matrix Factorization</a>\n",
    "\n",
    "In this part of the notebook, you will build use matrix factorization to make article recommendations to the users on the IBM Watson Studio platform.\n",
    "\n",
    "`1.` You should have already created a **user_item** matrix above in **question 1** of **Part III** above.  This first question here will just require that you run the cells to get things set up for the rest of **Part V** of the notebook. "
   ]
  },
  {
   "cell_type": "code",
   "execution_count": 52,
   "metadata": {},
   "outputs": [],
   "source": [
    "# Load the matrix here\n",
    "user_item_matrix = pd.read_pickle('user_item_matrix.p')"
   ]
  },
  {
   "cell_type": "code",
   "execution_count": 53,
   "metadata": {},
   "outputs": [
    {
     "data": {
      "text/html": [
       "<div>\n",
       "<style scoped>\n",
       "    .dataframe tbody tr th:only-of-type {\n",
       "        vertical-align: middle;\n",
       "    }\n",
       "\n",
       "    .dataframe tbody tr th {\n",
       "        vertical-align: top;\n",
       "    }\n",
       "\n",
       "    .dataframe thead th {\n",
       "        text-align: right;\n",
       "    }\n",
       "</style>\n",
       "<table border=\"1\" class=\"dataframe\">\n",
       "  <thead>\n",
       "    <tr style=\"text-align: right;\">\n",
       "      <th>article_id</th>\n",
       "      <th>0.0</th>\n",
       "      <th>100.0</th>\n",
       "      <th>1000.0</th>\n",
       "      <th>1004.0</th>\n",
       "      <th>1006.0</th>\n",
       "      <th>1008.0</th>\n",
       "      <th>101.0</th>\n",
       "      <th>1014.0</th>\n",
       "      <th>1015.0</th>\n",
       "      <th>1016.0</th>\n",
       "      <th>...</th>\n",
       "      <th>977.0</th>\n",
       "      <th>98.0</th>\n",
       "      <th>981.0</th>\n",
       "      <th>984.0</th>\n",
       "      <th>985.0</th>\n",
       "      <th>986.0</th>\n",
       "      <th>990.0</th>\n",
       "      <th>993.0</th>\n",
       "      <th>996.0</th>\n",
       "      <th>997.0</th>\n",
       "    </tr>\n",
       "    <tr>\n",
       "      <th>user_id</th>\n",
       "      <th></th>\n",
       "      <th></th>\n",
       "      <th></th>\n",
       "      <th></th>\n",
       "      <th></th>\n",
       "      <th></th>\n",
       "      <th></th>\n",
       "      <th></th>\n",
       "      <th></th>\n",
       "      <th></th>\n",
       "      <th></th>\n",
       "      <th></th>\n",
       "      <th></th>\n",
       "      <th></th>\n",
       "      <th></th>\n",
       "      <th></th>\n",
       "      <th></th>\n",
       "      <th></th>\n",
       "      <th></th>\n",
       "      <th></th>\n",
       "      <th></th>\n",
       "    </tr>\n",
       "  </thead>\n",
       "  <tbody>\n",
       "    <tr>\n",
       "      <th>1</th>\n",
       "      <td>0.0</td>\n",
       "      <td>0.0</td>\n",
       "      <td>0.0</td>\n",
       "      <td>0.0</td>\n",
       "      <td>0.0</td>\n",
       "      <td>0.0</td>\n",
       "      <td>0.0</td>\n",
       "      <td>0.0</td>\n",
       "      <td>0.0</td>\n",
       "      <td>0.0</td>\n",
       "      <td>...</td>\n",
       "      <td>0.0</td>\n",
       "      <td>0.0</td>\n",
       "      <td>1.0</td>\n",
       "      <td>0.0</td>\n",
       "      <td>0.0</td>\n",
       "      <td>0.0</td>\n",
       "      <td>0.0</td>\n",
       "      <td>0.0</td>\n",
       "      <td>0.0</td>\n",
       "      <td>0.0</td>\n",
       "    </tr>\n",
       "    <tr>\n",
       "      <th>2</th>\n",
       "      <td>0.0</td>\n",
       "      <td>0.0</td>\n",
       "      <td>0.0</td>\n",
       "      <td>0.0</td>\n",
       "      <td>0.0</td>\n",
       "      <td>0.0</td>\n",
       "      <td>0.0</td>\n",
       "      <td>0.0</td>\n",
       "      <td>0.0</td>\n",
       "      <td>0.0</td>\n",
       "      <td>...</td>\n",
       "      <td>0.0</td>\n",
       "      <td>0.0</td>\n",
       "      <td>0.0</td>\n",
       "      <td>0.0</td>\n",
       "      <td>0.0</td>\n",
       "      <td>0.0</td>\n",
       "      <td>0.0</td>\n",
       "      <td>0.0</td>\n",
       "      <td>0.0</td>\n",
       "      <td>0.0</td>\n",
       "    </tr>\n",
       "    <tr>\n",
       "      <th>3</th>\n",
       "      <td>0.0</td>\n",
       "      <td>0.0</td>\n",
       "      <td>0.0</td>\n",
       "      <td>0.0</td>\n",
       "      <td>0.0</td>\n",
       "      <td>0.0</td>\n",
       "      <td>0.0</td>\n",
       "      <td>0.0</td>\n",
       "      <td>0.0</td>\n",
       "      <td>0.0</td>\n",
       "      <td>...</td>\n",
       "      <td>1.0</td>\n",
       "      <td>0.0</td>\n",
       "      <td>0.0</td>\n",
       "      <td>0.0</td>\n",
       "      <td>0.0</td>\n",
       "      <td>0.0</td>\n",
       "      <td>0.0</td>\n",
       "      <td>0.0</td>\n",
       "      <td>0.0</td>\n",
       "      <td>0.0</td>\n",
       "    </tr>\n",
       "    <tr>\n",
       "      <th>4</th>\n",
       "      <td>0.0</td>\n",
       "      <td>0.0</td>\n",
       "      <td>0.0</td>\n",
       "      <td>0.0</td>\n",
       "      <td>0.0</td>\n",
       "      <td>0.0</td>\n",
       "      <td>0.0</td>\n",
       "      <td>0.0</td>\n",
       "      <td>0.0</td>\n",
       "      <td>0.0</td>\n",
       "      <td>...</td>\n",
       "      <td>0.0</td>\n",
       "      <td>0.0</td>\n",
       "      <td>0.0</td>\n",
       "      <td>0.0</td>\n",
       "      <td>0.0</td>\n",
       "      <td>0.0</td>\n",
       "      <td>0.0</td>\n",
       "      <td>0.0</td>\n",
       "      <td>0.0</td>\n",
       "      <td>0.0</td>\n",
       "    </tr>\n",
       "    <tr>\n",
       "      <th>5</th>\n",
       "      <td>0.0</td>\n",
       "      <td>0.0</td>\n",
       "      <td>0.0</td>\n",
       "      <td>0.0</td>\n",
       "      <td>0.0</td>\n",
       "      <td>0.0</td>\n",
       "      <td>0.0</td>\n",
       "      <td>0.0</td>\n",
       "      <td>0.0</td>\n",
       "      <td>0.0</td>\n",
       "      <td>...</td>\n",
       "      <td>0.0</td>\n",
       "      <td>0.0</td>\n",
       "      <td>0.0</td>\n",
       "      <td>0.0</td>\n",
       "      <td>0.0</td>\n",
       "      <td>0.0</td>\n",
       "      <td>0.0</td>\n",
       "      <td>0.0</td>\n",
       "      <td>0.0</td>\n",
       "      <td>0.0</td>\n",
       "    </tr>\n",
       "  </tbody>\n",
       "</table>\n",
       "<p>5 rows × 714 columns</p>\n",
       "</div>"
      ],
      "text/plain": [
       "article_id  0.0  100.0  1000.0  1004.0  1006.0  1008.0  101.0  1014.0  1015.0  \\\n",
       "user_id                                                                         \n",
       "1           0.0    0.0     0.0     0.0     0.0     0.0    0.0     0.0     0.0   \n",
       "2           0.0    0.0     0.0     0.0     0.0     0.0    0.0     0.0     0.0   \n",
       "3           0.0    0.0     0.0     0.0     0.0     0.0    0.0     0.0     0.0   \n",
       "4           0.0    0.0     0.0     0.0     0.0     0.0    0.0     0.0     0.0   \n",
       "5           0.0    0.0     0.0     0.0     0.0     0.0    0.0     0.0     0.0   \n",
       "\n",
       "article_id  1016.0  ...    977.0  98.0  981.0  984.0  985.0  986.0  990.0  \\\n",
       "user_id             ...                                                     \n",
       "1              0.0  ...      0.0   0.0    1.0    0.0    0.0    0.0    0.0   \n",
       "2              0.0  ...      0.0   0.0    0.0    0.0    0.0    0.0    0.0   \n",
       "3              0.0  ...      1.0   0.0    0.0    0.0    0.0    0.0    0.0   \n",
       "4              0.0  ...      0.0   0.0    0.0    0.0    0.0    0.0    0.0   \n",
       "5              0.0  ...      0.0   0.0    0.0    0.0    0.0    0.0    0.0   \n",
       "\n",
       "article_id  993.0  996.0  997.0  \n",
       "user_id                          \n",
       "1             0.0    0.0    0.0  \n",
       "2             0.0    0.0    0.0  \n",
       "3             0.0    0.0    0.0  \n",
       "4             0.0    0.0    0.0  \n",
       "5             0.0    0.0    0.0  \n",
       "\n",
       "[5 rows x 714 columns]"
      ]
     },
     "execution_count": 53,
     "metadata": {},
     "output_type": "execute_result"
    }
   ],
   "source": [
    "# quick look at the matrix\n",
    "user_item_matrix.head()"
   ]
  },
  {
   "cell_type": "markdown",
   "metadata": {},
   "source": [
    "`2.` In this situation, you can use Singular Value Decomposition from [numpy](https://docs.scipy.org/doc/numpy-1.14.0/reference/generated/numpy.linalg.svd.html) on the user-item matrix.  Use the cell to perform SVD, and explain why this is different than in the lesson."
   ]
  },
  {
   "cell_type": "code",
   "execution_count": 54,
   "metadata": {},
   "outputs": [],
   "source": [
    "# Perform SVD on the User-Item Matrix Here\n",
    "\n",
    "u, s, vt = np.linalg.svd(user_item_matrix)# use the built in to get the three matrices"
   ]
  },
  {
   "cell_type": "markdown",
   "metadata": {},
   "source": [
    "**SVD from numpy works well when there is no nan values,so in the lesson the interaction matrix had a lot of nan values becacuse the matrix consider de rating and latent factor. Here we use 1 or 0**"
   ]
  },
  {
   "cell_type": "markdown",
   "metadata": {},
   "source": [
    "`3.` Now for the tricky part, how do we choose the number of latent features to use?  Running the below cell, you can see that as the number of latent features increases, we obtain a lower error rate on making predictions for the 1 and 0 values in the user-item matrix.  Run the cell below to get an idea of how the accuracy improves as we increase the number of latent features."
   ]
  },
  {
   "cell_type": "code",
   "execution_count": 55,
   "metadata": {},
   "outputs": [
    {
     "data": {
      "image/png": "[encoded data removed]",
      "text/plain": [
       "<matplotlib.figure.Figure at 0x7fcf37fbfef0>"
      ]
     },
     "metadata": {
      "needs_background": "light"
     },
     "output_type": "display_data"
    }
   ],
   "source": [
    "num_latent_feats = np.arange(10,700+10,20)\n",
    "sum_errs = []\n",
    "\n",
    "for k in num_latent_feats:\n",
    "    # restructure with k latent features\n",
    "    s_new, u_new, vt_new = np.diag(s[:k]), u[:, :k], vt[:k, :]\n",
    "    \n",
    "    # take dot product\n",
    "    user_item_est = np.around(np.dot(np.dot(u_new, s_new), vt_new))\n",
    "    \n",
    "    # compute error for each prediction to actual value\n",
    "    diffs = np.subtract(user_item_matrix, user_item_est)\n",
    "    \n",
    "    # total errors and keep track of them\n",
    "    err = np.sum(np.sum(np.abs(diffs)))\n",
    "    sum_errs.append(err)\n",
    "    \n",
    "    \n",
    "plt.plot(num_latent_feats, 1 - np.array(sum_errs)/df.shape[0]);\n",
    "plt.xlabel('Number of Latent Features');\n",
    "plt.ylabel('Accuracy');\n",
    "plt.title('Accuracy vs. Number of Latent Features');"
   ]
  },
  {
   "cell_type": "markdown",
   "metadata": {},
   "source": [
    "`4.` From the above, we can't really be sure how many features to use, because simply having a better way to predict the 1's and 0's of the matrix doesn't exactly give us an indication of if we are able to make good recommendations.  Instead, we might split our dataset into a training and test set of data, as shown in the cell below.  \n",
    "\n",
    "Use the code from question 3 to understand the impact on accuracy of the training and test sets of data with different numbers of latent features. Using the split below: \n",
    "\n",
    "* How many users can we make predictions for in the test set?  \n",
    "* How many users are we not able to make predictions for because of the cold start problem?\n",
    "* How many articles can we make predictions for in the test set?  \n",
    "* How many articles are we not able to make predictions for because of the cold start problem?"
   ]
  },
  {
   "cell_type": "code",
   "execution_count": 56,
   "metadata": {},
   "outputs": [],
   "source": [
    "df_train = df.head(40000)\n",
    "df_test = df.tail(5993)\n",
    "\n",
    "def create_test_and_train_user_item(df_train, df_test):\n",
    "    '''\n",
    "    INPUT:\n",
    "    df_train - training dataframe\n",
    "    df_test - test dataframe\n",
    "    \n",
    "    OUTPUT:\n",
    "    user_item_train - a user-item matrix of the training dataframe \n",
    "                      (unique users for each row and unique articles for each column)\n",
    "    user_item_test - a user-item matrix of the testing dataframe \n",
    "                    (unique users for each row and unique articles for each column)\n",
    "    test_idx - all of the test user ids\n",
    "    test_arts - all of the test article ids\n",
    "    \n",
    "    '''\n",
    "    # Your code here\n",
    "    user_item_train = create_user_item_matrix(df_train)\n",
    "    user_item_test = create_user_item_matrix(df_test)\n",
    "    \n",
    "    test_idx = user_item_test.index\n",
    "    test_arts = user_item_test.columns\n",
    "    \n",
    "    return user_item_train, user_item_test, test_idx, test_arts\n",
    "\n",
    "user_item_train, user_item_test, test_idx, test_arts = create_test_and_train_user_item(df_train, df_test)"
   ]
  },
  {
   "cell_type": "code",
   "execution_count": 57,
   "metadata": {},
   "outputs": [
    {
     "data": {
      "text/plain": [
       "((4487, 714), (682, 574))"
      ]
     },
     "execution_count": 57,
     "metadata": {},
     "output_type": "execute_result"
    }
   ],
   "source": [
    "user_item_train.shape, user_item_test.shape"
   ]
  },
  {
   "cell_type": "code",
   "execution_count": 58,
   "metadata": {},
   "outputs": [
    {
     "name": "stdout",
     "output_type": "stream",
     "text": [
      "20\n"
     ]
    }
   ],
   "source": [
    "train_idx=user_item_train.index\n",
    "available_to_prediction = pd.Series([x for x in train_idx if x in test_idx])\n",
    "print(len(available_to_prediction))"
   ]
  },
  {
   "cell_type": "code",
   "execution_count": 59,
   "metadata": {},
   "outputs": [
    {
     "name": "stdout",
     "output_type": "stream",
     "text": [
      "How many users can we make predictions for in the test set? 20\n",
      "How many users in the test set are we not able to make predictions for because of the cold start problem 662\n",
      "How many movies can we make predictions for in the test set 574\n",
      "How many movies in the test set are we not able to make predictions for because of the cold start problem 0\n"
     ]
    }
   ],
   "source": [
    "print('How many users can we make predictions for in the test set?',len(available_to_prediction))\n",
    "print('How many users in the test set are we not able to make predictions for because of the cold start problem',user_item_test.shape[0] -len(available_to_prediction))\n",
    "print('How many movies can we make predictions for in the test set',user_item_test.shape[1])\n",
    "print('How many movies in the test set are we not able to make predictions for because of the cold start problem',len(test_arts) - user_item_test.shape[1])"
   ]
  },
  {
   "cell_type": "code",
   "execution_count": 60,
   "metadata": {},
   "outputs": [
    {
     "name": "stdout",
     "output_type": "stream",
     "text": [
      "Awesome job!  That's right!  All of the test movies are in the training data, but there are only 20 test users that were also in the training set.  All of the other users that are in the test set we have no data on.  Therefore, we cannot make predictions for these users using SVD.\n"
     ]
    }
   ],
   "source": [
    "# Replace the values in the dictionary below\n",
    "a = 662 \n",
    "b = 574 \n",
    "c = 20 \n",
    "d = 0 \n",
    "\n",
    "\n",
    "sol_4_dict = {\n",
    "    'How many users can we make predictions for in the test set?': c, \n",
    "    'How many users in the test set are we not able to make predictions for because of the cold start problem?': a, \n",
    "    'How many movies can we make predictions for in the test set?': b,\n",
    "    'How many movies in the test set are we not able to make predictions for because of the cold start problem?': d\n",
    "}\n",
    "\n",
    "t.sol_4_test(sol_4_dict)"
   ]
  },
  {
   "cell_type": "markdown",
   "metadata": {},
   "source": [
    "`5.` Now use the **user_item_train** dataset from above to find U, S, and V transpose using SVD. Then find the subset of rows in the **user_item_test** dataset that you can predict using this matrix decomposition with different numbers of latent features to see how many features makes sense to keep based on the accuracy on the test data. This will require combining what was done in questions `2` - `4`.\n",
    "\n",
    "Use the cells below to explore how well SVD works towards making predictions for recommendations on the test data.  "
   ]
  },
  {
   "cell_type": "code",
   "execution_count": 61,
   "metadata": {},
   "outputs": [],
   "source": [
    "# fit SVD on the user_item_train matrix\n",
    "u_train, s_train, vt_train = np.linalg.svd(user_item_train) # fit svd similar to above then use the cells below"
   ]
  },
  {
   "cell_type": "code",
   "execution_count": 62,
   "metadata": {},
   "outputs": [],
   "source": [
    "# Use these cells to see how well you can use the training \n",
    "# decomposition to predict on test data\n",
    "train_common_idx = user_item_train.index.isin(test_idx)\n",
    "train_common_col = user_item_train.columns.isin(test_arts)\n",
    "u_test = u_train[train_common_idx, :]\n",
    "vt_test = vt_train[:, train_common_col]"
   ]
  },
  {
   "cell_type": "code",
   "execution_count": 63,
   "metadata": {},
   "outputs": [],
   "source": [
    "user_item_test_subset = user_item_test.loc[available_to_prediction]\n",
    "\n",
    "num_latent_feats = np.arange(10,700+10,20)\n",
    "train_sum_errs = []\n",
    "test_sum_errs = []\n",
    "\n",
    "for k in num_latent_feats:\n",
    "    # restructure with k latent features\n",
    "    s_train_new, u_train_new, vt_train_new = np.diag(s_train[:k]), u_train[:, :k], vt_train[:k, :]\n",
    "    u_test_new, vt_test_new = u_test[:, :k], vt_test[:k, :]\n",
    "    \n",
    "    # take dot product\n",
    "    user_item_train_est = np.around(np.dot(np.dot(u_train_new, s_train_new), vt_train_new))\n",
    "    user_item_test_est = np.around(np.dot(np.dot(u_test_new, s_train_new), vt_test_new))\n",
    "    \n",
    "    # compute error for each prediction to actual value\n",
    "    diffs_train = np.subtract(user_item_train, user_item_train_est)\n",
    "    diffs_test = np.subtract(user_item_test_subset, user_item_test_est)\n",
    "    \n",
    "    # total errors and keep track of them\n",
    "    train_err = np.sum(np.sum(np.abs(diffs_train)))\n",
    "    train_sum_errs.append(train_err)\n",
    "    \n",
    "    test_err = np.sum(np.sum(np.abs(diffs_test)))\n",
    "    test_sum_errs.append(test_err)"
   ]
  },
  {
   "cell_type": "code",
   "execution_count": 64,
   "metadata": {},
   "outputs": [
    {
     "data": {
      "image/png": "[encoded data removed]",
      "text/plain": [
       "<matplotlib.figure.Figure at 0x7fcf37efa9b0>"
      ]
     },
     "metadata": {
      "needs_background": "light"
     },
     "output_type": "display_data"
    }
   ],
   "source": [
    "plt.plot(num_latent_feats, 1 - (np.array(train_sum_errs)/(user_item_train.shape[0]*user_item_train.shape[1])), label='train');\n",
    "plt.plot(num_latent_feats, 1 - (np.array(test_sum_errs)/(user_item_test_subset.shape[0]*user_item_test_subset.shape[1])), label='test');\n",
    "plt.legend(loc='best')\n",
    "plt.xlabel('Number of Latent Features');\n",
    "plt.ylabel('Accuracy');\n",
    "plt.title('Accuracy vs. Number of Latent Features');\n",
    "plt.show();"
   ]
  },
  {
   "cell_type": "markdown",
   "metadata": {
    "collapsed": true
   },
   "source": [
    "`6.` Use the cell below to comment on the results you found in the previous question. Given the circumstances of your results, discuss what you might do to determine if the recommendations you make with any of the above recommendation systems are an improvement to how users currently find articles? "
   ]
  },
  {
   "cell_type": "markdown",
   "metadata": {},
   "source": [
    "**The graph above shows how the accuracy falls dramaticly when increasing the number of latent features. Recommendation methods like a rank based recommendation system would be the best for new users, while a collaborative filtering recommendation system combined with rank based would work for users that have already interacted with some articles and second place,  the dimesions of datasets to train and test are small, so we can't justo implement  recommendation system  based on SVD and expect a good perfomance in this conditions.Use rank based recommendation system would be the best for new users and a Collaborative Filtering Based Recommendations could work for old users while we get more information.**\n",
    "\n",
    "**For expand on A/B testing we can use the example in the software experiment. Think on new features that allow to measure the impact of recomendation could be usefull, a system of Rating scales (Scales 1 to 5) could work. Also track the experience of each userIDs is important, for that reason propose the use cookies to know the user clicks in recomended articles, time spending reading articles and category of article sounds good to me. Therefor, the accuracy of recommendation articles for new users and old users will improve**"
   ]
  },
  {
   "cell_type": "markdown",
   "metadata": {
    "collapsed": true
   },
   "source": [
    "<a id='conclusions'></a>\n",
    "### Extras\n",
    "Using your workbook, you could now save your recommendations for each user, develop a class to make new predictions and update your results, and make a flask app to deploy your results.  These tasks are beyond what is required for this project.  However, from what you learned in the lessons, you certainly capable of taking these tasks on to improve upon your work here!\n",
    "\n",
    "\n",
    "## Conclusion\n",
    "\n",
    "> Congratulations!  You have reached the end of the Recommendations with IBM project! \n",
    "\n",
    "> **Tip**: Once you are satisfied with your work here, check over your report to make sure that it is satisfies all the areas of the [rubric](https://review.udacity.com/#!/rubrics/2322/view). You should also probably remove all of the \"Tips\" like this one so that the presentation is as polished as possible.\n",
    "\n",
    "\n",
    "## Directions to Submit\n",
    "\n",
    "> Before you submit your project, you need to create a .html or .pdf version of this notebook in the workspace here. To do that, run the code cell below. If it worked correctly, you should get a return code of 0, and you should see the generated .html file in the workspace directory (click on the orange Jupyter icon in the upper left).\n",
    "\n",
    "> Alternatively, you can download this report as .html via the **File** > **Download as** submenu, and then manually upload it into the workspace directory by clicking on the orange Jupyter icon in the upper left, then using the Upload button.\n",
    "\n",
    "> Once you've done this, you can submit your project by clicking on the \"Submit Project\" button in the lower right here. This will create and submit a zip file with this .ipynb doc and the .html or .pdf version you created. Congratulations! "
   ]
  },
  {
   "cell_type": "code",
   "execution_count": 65,
   "metadata": {},
   "outputs": [
    {
     "data": {
      "text/plain": [
       "0"
      ]
     },
     "execution_count": 65,
     "metadata": {},
     "output_type": "execute_result"
    }
   ],
   "source": [
    "from subprocess import call\n",
    "call(['python', '-m', 'nbconvert', 'Recommendations_with_IBM.ipynb'])"
   ]
  },
  {
   "cell_type": "code",
   "execution_count": null,
   "metadata": {},
   "outputs": [],
   "source": []
  }
 ],
 "metadata": {
  "kernelspec": {
   "display_name": "Python 3",
   "language": "python",
   "name": "python3"
  },
  "language_info": {
   "codemirror_mode": {
    "name": "ipython",
    "version": 3
   },
   "file_extension": ".py",
   "mimetype": "text/x-python",
   "name": "python",
   "nbconvert_exporter": "python",
   "pygments_lexer": "ipython3",
   "version": "3.6.3"
  }
 },
 "nbformat": 4,
 "nbformat_minor": 2
}
